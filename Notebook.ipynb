{
 "cells": [
  {
   "cell_type": "markdown",
   "id": "2b869834-617c-4026-aff0-0d5f55cf33f7",
   "metadata": {},
   "source": [
    "### Context"
   ]
  },
  {
   "cell_type": "markdown",
   "id": "5f411a8d-566c-4de3-ad70-a7119d6df566",
   "metadata": {},
   "source": [
    "Diabetic retinopathy is a severe complication of diabetes that can cause blindness if left undiagnosed and untreated. With one in three people with diabetes having some degree of diabetic retinopathy, an accurate and early diagnosis is critical for appropriate treatment. In this project, we will use the Diabetic Retinopathy Debrecen dataset to classify eyes as either having diabetic retinopathy or being normal. This dataset contains features extracted from the Messidor image set and is used to predict whether an image contains signs of diabetic retinopathy or not.\n",
    "\n",
    "This project has two parts. The first part involves implementing and training a multilayer feedforward neural network to classify the data. The second part involves applying computational intelligence techniques to classify the data based on various features. In the first part, we will convert the dataset from .ARFF format to .CSV format, load the dataset into a programming environment, visualize the distribution of features and classes, normalize each feature, and then construct a three-layer feedforward network. We will use a high-level programming language like Python, C/C++, or Java to train and test the neural network using the Backpropagation algorithm. In the second part, we will retrieve the datasets prepared in the first part, construct, train, and test a multilayer feedforward neural network with the same datasets using a selected machine learning library like scikitlearn or Keras.\n",
    "\n",
    "We will detail the hyperparameters and training rules/algorithms adopted in the report and compare the performance of this model with the neural network classifier trained in Part 1. Additionally, we will explore how some advanced measures like AUC can be used for performance evaluation of these neural network classifiers. We will then tune the parameters or training rules/algorithms of our neural network model and re-train it so that testing performance of the model is improved. We will also construct a new machine learning model using different neural network or classifier architecture like support vector machines, decision tree, or random forest and train and test the new model using the same datasets. Finally, we will explain how the neural network model in Step 3.3 can be optimized using genetic algorithms, specifically discussing what performance metrics or objective functions we want to optimize, what optimizing variables we consider, how a candidate neural network model is encoded in a chromosome, and how crossover operator and mutation operator are devised."
   ]
  },
  {
   "cell_type": "markdown",
   "id": "54e5a0a8-046a-4cac-8cd2-67163c2be891",
   "metadata": {},
   "source": [
    "### Attribute Informations"
   ]
  },
  {
   "cell_type": "markdown",
   "id": "0a6a5dcd-693b-45a7-b71f-dc2f65a8eae8",
   "metadata": {},
   "source": [
    "- 0) The binary result of quality assessment. 0 = bad quality 1 = sufficient quality. \n",
    "- 1) The binary result of pre-screening, where 1 indicates severe retinal abnormality and 0 its lack. \n",
    "- 2-7) The results of MA detection. Each feature value stand for the number of MAs found at the confidence levels alpha = 0.5, . . . , 1, respectively. \n",
    "- 8-15) contain the same information as 2-7) for exudates. However, as exudates are represented by a set of points rather than the number of pixels constructing the lesions, these features are normalized by dividing the number of lesions with the diameter of the ROI to compensate different image sizes. \n",
    "- 16) The euclidean distance of the center of the macula and the center of the optic disc to provide important information regarding the patientâ€™s condition. This feature is also normalized with the diameter of the ROI. \n",
    "- 17) The diameter of the optic disc. \n",
    "- 18) The binary result of the AM/FM-based classification. \n",
    "- 19) Class label. 1 = contains signs of DR (Accumulative label for the Messidor classes 1, 2, 3), 0 = no signs of DR."
   ]
  },
  {
   "cell_type": "markdown",
   "id": "017bef87-e5f7-4216-b6fb-f012643e7597",
   "metadata": {},
   "source": [
    "### Libraries"
   ]
  },
  {
   "cell_type": "code",
   "execution_count": 1,
   "id": "fa2c0254-5733-4c74-b109-dd6bb66c027f",
   "metadata": {},
   "outputs": [],
   "source": [
    "import pandas as pd\n",
    "import numpy as np\n",
    "import seaborn as sns\n",
    "from scipy.io import arff\n",
    "import matplotlib.pyplot as plt\n",
    "\n",
    "from tensorflow.keras.models import Sequential\n",
    "from tensorflow.keras.layers import Dense\n",
    "from tensorflow.keras.optimizers import Adam\n",
    "from keras.wrappers.scikit_learn import KerasClassifier\n",
    "\n",
    "from sklearn.preprocessing import MinMaxScaler\n",
    "from sklearn.tree import DecisionTreeClassifier\n",
    "from sklearn import svm\n",
    "from sklearn.model_selection import train_test_split\n",
    "from sklearn.model_selection import GridSearchCV\n",
    "from sklearn.metrics import confusion_matrix, accuracy_score, roc_curve, auc, classification_report, roc_auc_score\n",
    "\n",
    "import warnings\n",
    "warnings.filterwarnings('ignore')"
   ]
  },
  {
   "cell_type": "markdown",
   "id": "f778b304-dd00-4fed-9d18-78e53919906d",
   "metadata": {},
   "source": [
    "### Dataset"
   ]
  },
  {
   "cell_type": "code",
   "execution_count": 2,
   "id": "50fa98fc-7c35-4a98-b33a-b493de3ca3eb",
   "metadata": {},
   "outputs": [],
   "source": [
    "# Load ARFF file\n",
    "data = arff.loadarff('messidor_features.arff')\n",
    "\n",
    "# Convert to pandas DataFrame\n",
    "df = pd.DataFrame(data[0])\n",
    "\n",
    "# Save as CSV file\n",
    "df.to_csv('messidor_features.csv', index=False)"
   ]
  },
  {
   "cell_type": "code",
   "execution_count": 3,
   "id": "301d7157-2f84-421f-973e-a0f856a87d29",
   "metadata": {},
   "outputs": [],
   "source": [
    "# Load dataset\n",
    "df = pd.read_csv('messidor_features.csv')"
   ]
  },
  {
   "cell_type": "markdown",
   "id": "2b1142e8-5a4f-4cd8-ab92-017b99133979",
   "metadata": {},
   "source": [
    "### Part 1"
   ]
  },
  {
   "cell_type": "markdown",
   "id": "fcf67e6d-2dab-4ba9-9037-482e206ab062",
   "metadata": {},
   "source": [
    "#### 1.1 Visualize the distribution of features and classes and drop some columns"
   ]
  },
  {
   "cell_type": "code",
   "execution_count": 4,
   "id": "070fb1da-f4a3-450e-bd83-88452587b662",
   "metadata": {},
   "outputs": [
    {
     "data": {
      "text/html": [
       "<div>\n",
       "<style scoped>\n",
       "    .dataframe tbody tr th:only-of-type {\n",
       "        vertical-align: middle;\n",
       "    }\n",
       "\n",
       "    .dataframe tbody tr th {\n",
       "        vertical-align: top;\n",
       "    }\n",
       "\n",
       "    .dataframe thead th {\n",
       "        text-align: right;\n",
       "    }\n",
       "</style>\n",
       "<table border=\"1\" class=\"dataframe\">\n",
       "  <thead>\n",
       "    <tr style=\"text-align: right;\">\n",
       "      <th></th>\n",
       "      <th>0</th>\n",
       "      <th>1</th>\n",
       "      <th>2</th>\n",
       "      <th>3</th>\n",
       "      <th>4</th>\n",
       "      <th>5</th>\n",
       "      <th>6</th>\n",
       "      <th>7</th>\n",
       "      <th>8</th>\n",
       "      <th>9</th>\n",
       "      <th>10</th>\n",
       "      <th>11</th>\n",
       "      <th>12</th>\n",
       "      <th>13</th>\n",
       "      <th>14</th>\n",
       "      <th>15</th>\n",
       "      <th>16</th>\n",
       "      <th>17</th>\n",
       "      <th>18</th>\n",
       "      <th>Class</th>\n",
       "    </tr>\n",
       "  </thead>\n",
       "  <tbody>\n",
       "    <tr>\n",
       "      <th>0</th>\n",
       "      <td>1.0</td>\n",
       "      <td>1.0</td>\n",
       "      <td>22.0</td>\n",
       "      <td>22.0</td>\n",
       "      <td>22.0</td>\n",
       "      <td>19.0</td>\n",
       "      <td>18.0</td>\n",
       "      <td>14.0</td>\n",
       "      <td>49.895756</td>\n",
       "      <td>17.775994</td>\n",
       "      <td>5.270920</td>\n",
       "      <td>0.771761</td>\n",
       "      <td>0.018632</td>\n",
       "      <td>0.006864</td>\n",
       "      <td>0.003923</td>\n",
       "      <td>0.003923</td>\n",
       "      <td>0.486903</td>\n",
       "      <td>0.100025</td>\n",
       "      <td>1.0</td>\n",
       "      <td>b'0'</td>\n",
       "    </tr>\n",
       "    <tr>\n",
       "      <th>1</th>\n",
       "      <td>1.0</td>\n",
       "      <td>1.0</td>\n",
       "      <td>24.0</td>\n",
       "      <td>24.0</td>\n",
       "      <td>22.0</td>\n",
       "      <td>18.0</td>\n",
       "      <td>16.0</td>\n",
       "      <td>13.0</td>\n",
       "      <td>57.709936</td>\n",
       "      <td>23.799994</td>\n",
       "      <td>3.325423</td>\n",
       "      <td>0.234185</td>\n",
       "      <td>0.003903</td>\n",
       "      <td>0.003903</td>\n",
       "      <td>0.003903</td>\n",
       "      <td>0.003903</td>\n",
       "      <td>0.520908</td>\n",
       "      <td>0.144414</td>\n",
       "      <td>0.0</td>\n",
       "      <td>b'0'</td>\n",
       "    </tr>\n",
       "    <tr>\n",
       "      <th>2</th>\n",
       "      <td>1.0</td>\n",
       "      <td>1.0</td>\n",
       "      <td>62.0</td>\n",
       "      <td>60.0</td>\n",
       "      <td>59.0</td>\n",
       "      <td>54.0</td>\n",
       "      <td>47.0</td>\n",
       "      <td>33.0</td>\n",
       "      <td>55.831441</td>\n",
       "      <td>27.993933</td>\n",
       "      <td>12.687485</td>\n",
       "      <td>4.852282</td>\n",
       "      <td>1.393889</td>\n",
       "      <td>0.373252</td>\n",
       "      <td>0.041817</td>\n",
       "      <td>0.007744</td>\n",
       "      <td>0.530904</td>\n",
       "      <td>0.128548</td>\n",
       "      <td>0.0</td>\n",
       "      <td>b'1'</td>\n",
       "    </tr>\n",
       "    <tr>\n",
       "      <th>3</th>\n",
       "      <td>1.0</td>\n",
       "      <td>1.0</td>\n",
       "      <td>55.0</td>\n",
       "      <td>53.0</td>\n",
       "      <td>53.0</td>\n",
       "      <td>50.0</td>\n",
       "      <td>43.0</td>\n",
       "      <td>31.0</td>\n",
       "      <td>40.467228</td>\n",
       "      <td>18.445954</td>\n",
       "      <td>9.118901</td>\n",
       "      <td>3.079428</td>\n",
       "      <td>0.840261</td>\n",
       "      <td>0.272434</td>\n",
       "      <td>0.007653</td>\n",
       "      <td>0.001531</td>\n",
       "      <td>0.483284</td>\n",
       "      <td>0.114790</td>\n",
       "      <td>0.0</td>\n",
       "      <td>b'0'</td>\n",
       "    </tr>\n",
       "    <tr>\n",
       "      <th>4</th>\n",
       "      <td>1.0</td>\n",
       "      <td>1.0</td>\n",
       "      <td>44.0</td>\n",
       "      <td>44.0</td>\n",
       "      <td>44.0</td>\n",
       "      <td>41.0</td>\n",
       "      <td>39.0</td>\n",
       "      <td>27.0</td>\n",
       "      <td>18.026254</td>\n",
       "      <td>8.570709</td>\n",
       "      <td>0.410381</td>\n",
       "      <td>0.000000</td>\n",
       "      <td>0.000000</td>\n",
       "      <td>0.000000</td>\n",
       "      <td>0.000000</td>\n",
       "      <td>0.000000</td>\n",
       "      <td>0.475935</td>\n",
       "      <td>0.123572</td>\n",
       "      <td>0.0</td>\n",
       "      <td>b'1'</td>\n",
       "    </tr>\n",
       "    <tr>\n",
       "      <th>5</th>\n",
       "      <td>1.0</td>\n",
       "      <td>1.0</td>\n",
       "      <td>44.0</td>\n",
       "      <td>43.0</td>\n",
       "      <td>41.0</td>\n",
       "      <td>41.0</td>\n",
       "      <td>37.0</td>\n",
       "      <td>29.0</td>\n",
       "      <td>28.356400</td>\n",
       "      <td>6.935636</td>\n",
       "      <td>2.305771</td>\n",
       "      <td>0.323724</td>\n",
       "      <td>0.000000</td>\n",
       "      <td>0.000000</td>\n",
       "      <td>0.000000</td>\n",
       "      <td>0.000000</td>\n",
       "      <td>0.502831</td>\n",
       "      <td>0.126741</td>\n",
       "      <td>0.0</td>\n",
       "      <td>b'1'</td>\n",
       "    </tr>\n",
       "  </tbody>\n",
       "</table>\n",
       "</div>"
      ],
      "text/plain": [
       "     0    1     2     3     4     5     6     7          8          9  \\\n",
       "0  1.0  1.0  22.0  22.0  22.0  19.0  18.0  14.0  49.895756  17.775994   \n",
       "1  1.0  1.0  24.0  24.0  22.0  18.0  16.0  13.0  57.709936  23.799994   \n",
       "2  1.0  1.0  62.0  60.0  59.0  54.0  47.0  33.0  55.831441  27.993933   \n",
       "3  1.0  1.0  55.0  53.0  53.0  50.0  43.0  31.0  40.467228  18.445954   \n",
       "4  1.0  1.0  44.0  44.0  44.0  41.0  39.0  27.0  18.026254   8.570709   \n",
       "5  1.0  1.0  44.0  43.0  41.0  41.0  37.0  29.0  28.356400   6.935636   \n",
       "\n",
       "          10        11        12        13        14        15        16  \\\n",
       "0   5.270920  0.771761  0.018632  0.006864  0.003923  0.003923  0.486903   \n",
       "1   3.325423  0.234185  0.003903  0.003903  0.003903  0.003903  0.520908   \n",
       "2  12.687485  4.852282  1.393889  0.373252  0.041817  0.007744  0.530904   \n",
       "3   9.118901  3.079428  0.840261  0.272434  0.007653  0.001531  0.483284   \n",
       "4   0.410381  0.000000  0.000000  0.000000  0.000000  0.000000  0.475935   \n",
       "5   2.305771  0.323724  0.000000  0.000000  0.000000  0.000000  0.502831   \n",
       "\n",
       "         17   18 Class  \n",
       "0  0.100025  1.0  b'0'  \n",
       "1  0.144414  0.0  b'0'  \n",
       "2  0.128548  0.0  b'1'  \n",
       "3  0.114790  0.0  b'0'  \n",
       "4  0.123572  0.0  b'1'  \n",
       "5  0.126741  0.0  b'1'  "
      ]
     },
     "execution_count": 4,
     "metadata": {},
     "output_type": "execute_result"
    }
   ],
   "source": [
    "df.head(n=6)"
   ]
  },
  {
   "cell_type": "code",
   "execution_count": 5,
   "id": "1b0d7623-6771-4c9d-8de9-86f840447360",
   "metadata": {},
   "outputs": [
    {
     "data": {
      "text/html": [
       "<div>\n",
       "<style scoped>\n",
       "    .dataframe tbody tr th:only-of-type {\n",
       "        vertical-align: middle;\n",
       "    }\n",
       "\n",
       "    .dataframe tbody tr th {\n",
       "        vertical-align: top;\n",
       "    }\n",
       "\n",
       "    .dataframe thead th {\n",
       "        text-align: right;\n",
       "    }\n",
       "</style>\n",
       "<table border=\"1\" class=\"dataframe\">\n",
       "  <thead>\n",
       "    <tr style=\"text-align: right;\">\n",
       "      <th></th>\n",
       "      <th>0</th>\n",
       "      <th>1</th>\n",
       "      <th>2</th>\n",
       "      <th>3</th>\n",
       "      <th>4</th>\n",
       "      <th>5</th>\n",
       "      <th>6</th>\n",
       "      <th>7</th>\n",
       "      <th>8</th>\n",
       "      <th>9</th>\n",
       "      <th>10</th>\n",
       "      <th>11</th>\n",
       "      <th>12</th>\n",
       "      <th>13</th>\n",
       "      <th>14</th>\n",
       "      <th>15</th>\n",
       "      <th>16</th>\n",
       "      <th>17</th>\n",
       "      <th>18</th>\n",
       "    </tr>\n",
       "  </thead>\n",
       "  <tbody>\n",
       "    <tr>\n",
       "      <th>count</th>\n",
       "      <td>1151.000000</td>\n",
       "      <td>1151.000000</td>\n",
       "      <td>1151.000000</td>\n",
       "      <td>1151.000000</td>\n",
       "      <td>1151.000000</td>\n",
       "      <td>1151.000000</td>\n",
       "      <td>1151.000000</td>\n",
       "      <td>1151.000000</td>\n",
       "      <td>1151.000000</td>\n",
       "      <td>1151.000000</td>\n",
       "      <td>1151.000000</td>\n",
       "      <td>1151.000000</td>\n",
       "      <td>1151.000000</td>\n",
       "      <td>1151.000000</td>\n",
       "      <td>1151.000000</td>\n",
       "      <td>1151.000000</td>\n",
       "      <td>1151.000000</td>\n",
       "      <td>1151.000000</td>\n",
       "      <td>1151.000000</td>\n",
       "    </tr>\n",
       "    <tr>\n",
       "      <th>mean</th>\n",
       "      <td>0.996525</td>\n",
       "      <td>0.918332</td>\n",
       "      <td>38.428323</td>\n",
       "      <td>36.909644</td>\n",
       "      <td>35.140747</td>\n",
       "      <td>32.297133</td>\n",
       "      <td>28.747176</td>\n",
       "      <td>21.151173</td>\n",
       "      <td>64.096674</td>\n",
       "      <td>23.088012</td>\n",
       "      <td>8.704610</td>\n",
       "      <td>1.836489</td>\n",
       "      <td>0.560738</td>\n",
       "      <td>0.212290</td>\n",
       "      <td>0.085674</td>\n",
       "      <td>0.037225</td>\n",
       "      <td>0.523212</td>\n",
       "      <td>0.108431</td>\n",
       "      <td>0.336229</td>\n",
       "    </tr>\n",
       "    <tr>\n",
       "      <th>std</th>\n",
       "      <td>0.058874</td>\n",
       "      <td>0.273977</td>\n",
       "      <td>25.620913</td>\n",
       "      <td>24.105612</td>\n",
       "      <td>22.805400</td>\n",
       "      <td>21.114767</td>\n",
       "      <td>19.509227</td>\n",
       "      <td>15.101560</td>\n",
       "      <td>58.485289</td>\n",
       "      <td>21.602696</td>\n",
       "      <td>11.567589</td>\n",
       "      <td>3.923224</td>\n",
       "      <td>2.484111</td>\n",
       "      <td>1.057126</td>\n",
       "      <td>0.398717</td>\n",
       "      <td>0.178959</td>\n",
       "      <td>0.028055</td>\n",
       "      <td>0.017945</td>\n",
       "      <td>0.472624</td>\n",
       "    </tr>\n",
       "    <tr>\n",
       "      <th>min</th>\n",
       "      <td>0.000000</td>\n",
       "      <td>0.000000</td>\n",
       "      <td>1.000000</td>\n",
       "      <td>1.000000</td>\n",
       "      <td>1.000000</td>\n",
       "      <td>1.000000</td>\n",
       "      <td>1.000000</td>\n",
       "      <td>1.000000</td>\n",
       "      <td>0.349274</td>\n",
       "      <td>0.000000</td>\n",
       "      <td>0.000000</td>\n",
       "      <td>0.000000</td>\n",
       "      <td>0.000000</td>\n",
       "      <td>0.000000</td>\n",
       "      <td>0.000000</td>\n",
       "      <td>0.000000</td>\n",
       "      <td>0.367762</td>\n",
       "      <td>0.057906</td>\n",
       "      <td>0.000000</td>\n",
       "    </tr>\n",
       "    <tr>\n",
       "      <th>25%</th>\n",
       "      <td>1.000000</td>\n",
       "      <td>1.000000</td>\n",
       "      <td>16.000000</td>\n",
       "      <td>16.000000</td>\n",
       "      <td>15.000000</td>\n",
       "      <td>14.000000</td>\n",
       "      <td>11.000000</td>\n",
       "      <td>8.000000</td>\n",
       "      <td>22.271597</td>\n",
       "      <td>7.939315</td>\n",
       "      <td>1.249050</td>\n",
       "      <td>0.081554</td>\n",
       "      <td>0.000000</td>\n",
       "      <td>0.000000</td>\n",
       "      <td>0.000000</td>\n",
       "      <td>0.000000</td>\n",
       "      <td>0.502855</td>\n",
       "      <td>0.095799</td>\n",
       "      <td>0.000000</td>\n",
       "    </tr>\n",
       "    <tr>\n",
       "      <th>50%</th>\n",
       "      <td>1.000000</td>\n",
       "      <td>1.000000</td>\n",
       "      <td>35.000000</td>\n",
       "      <td>35.000000</td>\n",
       "      <td>32.000000</td>\n",
       "      <td>29.000000</td>\n",
       "      <td>25.000000</td>\n",
       "      <td>18.000000</td>\n",
       "      <td>44.249119</td>\n",
       "      <td>17.038020</td>\n",
       "      <td>4.423472</td>\n",
       "      <td>0.484829</td>\n",
       "      <td>0.022248</td>\n",
       "      <td>0.001554</td>\n",
       "      <td>0.000000</td>\n",
       "      <td>0.000000</td>\n",
       "      <td>0.523308</td>\n",
       "      <td>0.106623</td>\n",
       "      <td>0.000000</td>\n",
       "    </tr>\n",
       "    <tr>\n",
       "      <th>75%</th>\n",
       "      <td>1.000000</td>\n",
       "      <td>1.000000</td>\n",
       "      <td>55.000000</td>\n",
       "      <td>53.000000</td>\n",
       "      <td>51.000000</td>\n",
       "      <td>48.000000</td>\n",
       "      <td>43.000000</td>\n",
       "      <td>32.000000</td>\n",
       "      <td>87.804112</td>\n",
       "      <td>31.305692</td>\n",
       "      <td>11.766880</td>\n",
       "      <td>1.921648</td>\n",
       "      <td>0.191953</td>\n",
       "      <td>0.038450</td>\n",
       "      <td>0.004832</td>\n",
       "      <td>0.003851</td>\n",
       "      <td>0.543670</td>\n",
       "      <td>0.119591</td>\n",
       "      <td>1.000000</td>\n",
       "    </tr>\n",
       "    <tr>\n",
       "      <th>max</th>\n",
       "      <td>1.000000</td>\n",
       "      <td>1.000000</td>\n",
       "      <td>151.000000</td>\n",
       "      <td>132.000000</td>\n",
       "      <td>120.000000</td>\n",
       "      <td>105.000000</td>\n",
       "      <td>97.000000</td>\n",
       "      <td>89.000000</td>\n",
       "      <td>403.939108</td>\n",
       "      <td>167.131427</td>\n",
       "      <td>106.070092</td>\n",
       "      <td>59.766121</td>\n",
       "      <td>51.423208</td>\n",
       "      <td>20.098605</td>\n",
       "      <td>5.937799</td>\n",
       "      <td>3.086753</td>\n",
       "      <td>0.592217</td>\n",
       "      <td>0.219199</td>\n",
       "      <td>1.000000</td>\n",
       "    </tr>\n",
       "  </tbody>\n",
       "</table>\n",
       "</div>"
      ],
      "text/plain": [
       "                 0            1            2            3            4  \\\n",
       "count  1151.000000  1151.000000  1151.000000  1151.000000  1151.000000   \n",
       "mean      0.996525     0.918332    38.428323    36.909644    35.140747   \n",
       "std       0.058874     0.273977    25.620913    24.105612    22.805400   \n",
       "min       0.000000     0.000000     1.000000     1.000000     1.000000   \n",
       "25%       1.000000     1.000000    16.000000    16.000000    15.000000   \n",
       "50%       1.000000     1.000000    35.000000    35.000000    32.000000   \n",
       "75%       1.000000     1.000000    55.000000    53.000000    51.000000   \n",
       "max       1.000000     1.000000   151.000000   132.000000   120.000000   \n",
       "\n",
       "                 5            6            7            8            9  \\\n",
       "count  1151.000000  1151.000000  1151.000000  1151.000000  1151.000000   \n",
       "mean     32.297133    28.747176    21.151173    64.096674    23.088012   \n",
       "std      21.114767    19.509227    15.101560    58.485289    21.602696   \n",
       "min       1.000000     1.000000     1.000000     0.349274     0.000000   \n",
       "25%      14.000000    11.000000     8.000000    22.271597     7.939315   \n",
       "50%      29.000000    25.000000    18.000000    44.249119    17.038020   \n",
       "75%      48.000000    43.000000    32.000000    87.804112    31.305692   \n",
       "max     105.000000    97.000000    89.000000   403.939108   167.131427   \n",
       "\n",
       "                10           11           12           13           14  \\\n",
       "count  1151.000000  1151.000000  1151.000000  1151.000000  1151.000000   \n",
       "mean      8.704610     1.836489     0.560738     0.212290     0.085674   \n",
       "std      11.567589     3.923224     2.484111     1.057126     0.398717   \n",
       "min       0.000000     0.000000     0.000000     0.000000     0.000000   \n",
       "25%       1.249050     0.081554     0.000000     0.000000     0.000000   \n",
       "50%       4.423472     0.484829     0.022248     0.001554     0.000000   \n",
       "75%      11.766880     1.921648     0.191953     0.038450     0.004832   \n",
       "max     106.070092    59.766121    51.423208    20.098605     5.937799   \n",
       "\n",
       "                15           16           17           18  \n",
       "count  1151.000000  1151.000000  1151.000000  1151.000000  \n",
       "mean      0.037225     0.523212     0.108431     0.336229  \n",
       "std       0.178959     0.028055     0.017945     0.472624  \n",
       "min       0.000000     0.367762     0.057906     0.000000  \n",
       "25%       0.000000     0.502855     0.095799     0.000000  \n",
       "50%       0.000000     0.523308     0.106623     0.000000  \n",
       "75%       0.003851     0.543670     0.119591     1.000000  \n",
       "max       3.086753     0.592217     0.219199     1.000000  "
      ]
     },
     "execution_count": 5,
     "metadata": {},
     "output_type": "execute_result"
    }
   ],
   "source": [
    "df.describe()"
   ]
  },
  {
   "cell_type": "code",
   "execution_count": 6,
   "id": "a67b4d19-ed84-4909-8e5a-de2b22bb0fdc",
   "metadata": {},
   "outputs": [
    {
     "data": {
      "text/plain": [
       "(1151, 20)"
      ]
     },
     "execution_count": 6,
     "metadata": {},
     "output_type": "execute_result"
    }
   ],
   "source": [
    "df.shape"
   ]
  },
  {
   "cell_type": "code",
   "execution_count": 7,
   "id": "151899ea-edaf-452a-98ca-5ee6da1032e9",
   "metadata": {},
   "outputs": [
    {
     "data": {
      "text/plain": [
       "0"
      ]
     },
     "execution_count": 7,
     "metadata": {},
     "output_type": "execute_result"
    }
   ],
   "source": [
    "#Missing Values Check\n",
    "df.isnull().sum().sum()"
   ]
  },
  {
   "cell_type": "code",
   "execution_count": 8,
   "id": "5c3e8f71-3f12-4ba9-98e1-4ecbc24d4ca5",
   "metadata": {},
   "outputs": [],
   "source": [
    "# Separate input features and class labels\n",
    "features = df.iloc[:, :-1] # all columns except the last one\n",
    "y = df.iloc[:, -1]  # only the last column"
   ]
  },
  {
   "cell_type": "code",
   "execution_count": 9,
   "id": "259db668-85ea-445c-ad2c-04c5d43d5965",
   "metadata": {},
   "outputs": [
    {
     "data": {
      "image/png": "[encoded data removed]",
      "text/plain": [
       "<Figure size 1000x1200 with 20 Axes>"
      ]
     },
     "metadata": {},
     "output_type": "display_data"
    }
   ],
   "source": [
    "# Histogram of each feature\n",
    "features.hist(figsize=(10, 12))\n",
    "plt.show()"
   ]
  },
  {
   "cell_type": "code",
   "execution_count": 10,
   "id": "f25e1baf-87e8-4644-a9cf-51865722bfcb",
   "metadata": {},
   "outputs": [
    {
     "data": {
      "image/png": "[encoded data removed]",
      "text/plain": [
       "<Figure size 640x480 with 1 Axes>"
      ]
     },
     "metadata": {},
     "output_type": "display_data"
    }
   ],
   "source": [
    "# Bar plot of class labels\n",
    "y.value_counts().plot(kind='bar')\n",
    "plt.title('bar plot of teh target variable')\n",
    "plt.show()"
   ]
  },
  {
   "cell_type": "code",
   "execution_count": 11,
   "id": "0077d0b0-b7e6-41b3-ac10-4d5e52926644",
   "metadata": {},
   "outputs": [
    {
     "data": {
      "text/plain": [
       "0       0\n",
       "1       0\n",
       "2       1\n",
       "3       0\n",
       "4       1\n",
       "       ..\n",
       "1146    0\n",
       "1147    0\n",
       "1148    0\n",
       "1149    1\n",
       "1150    0\n",
       "Name: Class, Length: 1151, dtype: int64"
      ]
     },
     "execution_count": 11,
     "metadata": {},
     "output_type": "execute_result"
    }
   ],
   "source": [
    "# Replace column value\n",
    "y = y.replace(\"b'0'\", 0)\n",
    "y = y.replace(\"b'1'\", 1)\n",
    "\n",
    "y"
   ]
  },
  {
   "cell_type": "markdown",
   "id": "b2855969-cd87-4f1d-aac4-2998e6ae0e75",
   "metadata": {},
   "source": [
    "I would suggest dropping columns 0 and 1 for the following reasons:\n",
    "\n",
    "- **Column 0:** The binary result of quality assessment. 0 = bad quality 1 = sufficient quality. Since all the images in the dataset have already passed the quality assessment and have been included in the dataset, this feature may not provide any meaningful information for our analysis. Therefore, we can drop this column without losing any useful information.\n",
    "\n",
    "- **Column 1:** The binary result of pre-screening, where 1 indicates severe retinal abnormality and 0 its lack. Since this column only indicates the presence or absence of severe retinal abnormality, it may not provide much useful information for our analysis. Moreover, since we are interested in predicting signs of diabetic retinopathy (DR), we can assume that all the images in the dataset have some degree of retinal abnormality, and hence this feature may not be particularly relevant. Therefore, we can drop this column without losing any useful information."
   ]
  },
  {
   "cell_type": "code",
   "execution_count": 12,
   "id": "3014ac15-9639-4916-b4c9-0b3f834cc557",
   "metadata": {},
   "outputs": [],
   "source": [
    "# Drop columns 0 and 1\n",
    "features.drop(columns=['0', '1'], inplace=True)"
   ]
  },
  {
   "cell_type": "markdown",
   "id": "1588bf87-9926-41aa-a794-2d65fa9ce917",
   "metadata": {},
   "source": [
    "#### 1.2 Normalize each feature to the range of [0,1]"
   ]
  },
  {
   "cell_type": "code",
   "execution_count": 13,
   "id": "d07d2e75-baab-40fb-8a61-85f1f1577264",
   "metadata": {},
   "outputs": [],
   "source": [
    "# perform normalization on numerical variables only\n",
    "\n",
    "\n",
    "scaler = MinMaxScaler()\n",
    "X_norm = scaler.fit_transform(features[features.columns[:-1]])\n",
    "\n",
    "features[features.columns[:-1]] = X_norm"
   ]
  },
  {
   "cell_type": "code",
   "execution_count": 14,
   "id": "072bb382-03d2-41f4-b3d7-506b3e25814a",
   "metadata": {},
   "outputs": [
    {
     "data": {
      "image/png": "[encoded data removed]",
      "text/plain": [
       "<Figure size 1000x1200 with 20 Axes>"
      ]
     },
     "metadata": {},
     "output_type": "display_data"
    }
   ],
   "source": [
    "# Histogram of each feature\n",
    "features.hist(figsize=(10, 12))\n",
    "plt.show()"
   ]
  },
  {
   "cell_type": "markdown",
   "id": "fd8f43e2-09a2-4bca-ba56-91cdae612492",
   "metadata": {},
   "source": [
    "#### 1.3 Divide the whole dataset into two groups randomly."
   ]
  },
  {
   "cell_type": "code",
   "execution_count": 15,
   "id": "407932c1-4887-424b-bb7a-94365028728b",
   "metadata": {},
   "outputs": [],
   "source": [
    "# Split into training and testing sets with a 80:20 ratio\n",
    "X_train, X_test, y_train, y_test = train_test_split(features, y, test_size=0.2, random_state=42)"
   ]
  },
  {
   "cell_type": "markdown",
   "id": "9ebbe05d-cb47-4297-9c63-85b19b925f71",
   "metadata": {},
   "source": [
    "#### 1.4 Write a computer program using a high-level programming language of your choice (Python with NumPy."
   ]
  },
  {
   "cell_type": "code",
   "execution_count": 16,
   "id": "62e85f66-0e2a-4545-8ada-544371d0e600",
   "metadata": {},
   "outputs": [],
   "source": [
    "import numpy as np\n",
    "\n",
    "class NeuralNetwork:\n",
    "    def __init__(self, input_size, hidden_size, output_size):\n",
    "        self.input_size = input_size\n",
    "        self.hidden_size = hidden_size\n",
    "        self.output_size = output_size\n",
    "        \n",
    "        self.weights1 = np.random.randn(self.input_size, self.hidden_size)\n",
    "        self.bias1 = np.zeros((1, self.hidden_size))\n",
    "        \n",
    "        self.weights2 = np.random.randn(self.hidden_size, self.output_size)\n",
    "        self.bias2 = np.zeros((1, self.output_size))\n",
    "        \n",
    "    def sigmoid(self, x):\n",
    "        return 1 / (1 + np.exp(-x))\n",
    "    \n",
    "    def sigmoid_derivative(self, x):\n",
    "        return x * (1 - x)\n",
    "    \n",
    "    def forward(self, X):\n",
    "        self.z1 = np.dot(X, self.weights1) + self.bias1\n",
    "        self.a1 = self.sigmoid(self.z1)\n",
    "        \n",
    "        self.z2 = np.dot(self.a1, self.weights2) + self.bias2\n",
    "        self.a2 = self.sigmoid(self.z2)\n",
    "        \n",
    "        return self.a2\n",
    "    \n",
    "    def backward(self, X, y, output, learning_rate):\n",
    "        self.error = y - output\n",
    "        self.delta_output = self.error * self.sigmoid_derivative(output)\n",
    "        \n",
    "        self.error_hidden = np.dot(self.delta_output, self.weights2.T)\n",
    "        self.delta_hidden = self.error_hidden * self.sigmoid_derivative(self.a1)\n",
    "        \n",
    "        self.weights1 += learning_rate * np.dot(X.T, self.delta_hidden)\n",
    "        self.bias1 += learning_rate * np.sum(self.delta_hidden, axis=0, keepdims=True)\n",
    "        \n",
    "        self.weights2 += learning_rate * np.dot(self.a1.T, self.delta_output)\n",
    "        self.bias2 += learning_rate * np.sum(self.delta_output, axis=0, keepdims=True)\n",
    "    \n",
    "    def train(self, X, y, epochs, learning_rate):\n",
    "        mse_history = []\n",
    "        for i in range(epochs):\n",
    "            output = self.forward(X)\n",
    "            mse = np.mean((y - output)**2)\n",
    "            mse_history.append(mse)\n",
    "            self.backward(X, y, output, learning_rate)\n",
    "        return mse_history\n",
    "    \n",
    "    def predict(self, X):\n",
    "        return np.round(self.forward(X))\n"
   ]
  },
  {
   "cell_type": "markdown",
   "id": "4ded4e92-ba16-474a-ad64-cc2e514e5e32",
   "metadata": {},
   "source": [
    "#### 1.5\tConstruct a 3-layers feedforward network with X input neurons, 20 hidden neurons"
   ]
  },
  {
   "cell_type": "markdown",
   "id": "2bf57b10-9f7b-4b03-ae42-f0a554e15260",
   "metadata": {},
   "source": [
    "To construct a 3-layers feedforward network, you can set the number of input neurons to 17 (the number of input features) and the number of output neurons to 1 . For the hidden layer, you can set the number of neurons to 20 as specified.\n",
    "\n",
    "As for the choice of 20 hidden neurons, it is a common practice to experiment with different values to find the optimal number of neurons for a specific problem. However, 20 neurons can be a good starting point, and you can adjust this value based on the performance of the network."
   ]
  },
  {
   "cell_type": "code",
   "execution_count": 17,
   "id": "b550f25f-c822-4dd6-a9df-d97e6d984f69",
   "metadata": {},
   "outputs": [],
   "source": [
    "# Identify the values of X and Y\n",
    "X = features.shape[1]\n",
    "Y = 1"
   ]
  },
  {
   "cell_type": "code",
   "execution_count": 18,
   "id": "e8f4388f-d6ae-4bcc-b96d-923027b54044",
   "metadata": {},
   "outputs": [],
   "source": [
    "# Initialize the neural network\n",
    "nn = NeuralNetwork(X, 20, Y)"
   ]
  },
  {
   "cell_type": "markdown",
   "id": "299a87b3-88e4-4748-8c22-98ac13528fe5",
   "metadata": {},
   "source": [
    "#### 1.6 Plot the training curve"
   ]
  },
  {
   "cell_type": "markdown",
   "id": "4fc28fbd-f031-41d1-bf4f-4b866ef9ce5f",
   "metadata": {},
   "source": [
    "##### 1.6.1 learning rate = 0.1"
   ]
  },
  {
   "cell_type": "code",
   "execution_count": 19,
   "id": "fdb0d78d-f03e-4d94-ada8-aa51f05f2099",
   "metadata": {},
   "outputs": [],
   "source": [
    "# Initialize the neural network with 3 input neurons, 20 hidden neurons, and 1 output neuron\n",
    "nn = NeuralNetwork(input_size=X, hidden_size=20, output_size=Y)\n",
    "\n",
    "# Train the neural network for 1000 epochs\n",
    "mse_history = nn.train(X_train.values, y_train.values.reshape(-1,1), epochs=1000, learning_rate = 0.1)"
   ]
  },
  {
   "cell_type": "code",
   "execution_count": 20,
   "id": "66c3cf38-9016-4032-9333-4f0095a92cb8",
   "metadata": {},
   "outputs": [
    {
     "data": {
      "image/png": "[encoded data removed]",
      "text/plain": [
       "<Figure size 640x480 with 1 Axes>"
      ]
     },
     "metadata": {},
     "output_type": "display_data"
    }
   ],
   "source": [
    "# Plot the training curve\n",
    "plt.plot(mse_history)\n",
    "plt.xlabel('Epoch')\n",
    "plt.ylabel('MSE')\n",
    "plt.show()"
   ]
  },
  {
   "cell_type": "code",
   "execution_count": 21,
   "id": "9830ff5f-590e-4998-9b67-397f86eee1a9",
   "metadata": {},
   "outputs": [
    {
     "name": "stdout",
     "output_type": "stream",
     "text": [
      "FP rate: 0.0\n",
      "TP rate: 0.0\n",
      "Accuracy: 0.4458874458874459\n"
     ]
    }
   ],
   "source": [
    "# Evaluate the performance of the trained network on the test data\n",
    "y_pred = nn.predict(X_test)\n",
    "y_pred_binary = np.round(y_pred)\n",
    "confusion = confusion_matrix(y_test, y_pred_binary)\n",
    "tn, fp, fn, tp = confusion.ravel()\n",
    "fp_rate = fp / (fp + tn)\n",
    "tp_rate = tp / (tp + fn)\n",
    "accuracy = accuracy_score(y_test, y_pred_binary)\n",
    "\n",
    "# Print the performance metrics\n",
    "print('FP rate:', fp_rate)\n",
    "print('TP rate:', tp_rate)\n",
    "print('Accuracy:', accuracy)"
   ]
  },
  {
   "cell_type": "code",
   "execution_count": 22,
   "id": "b603e131-e085-4118-bab5-5661c858019d",
   "metadata": {},
   "outputs": [
    {
     "data": {
      "image/png": "[encoded data removed]",
      "text/plain": [
       "<Figure size 640x480 with 2 Axes>"
      ]
     },
     "metadata": {},
     "output_type": "display_data"
    }
   ],
   "source": [
    "# plot the confusion matrix as a heatmap using seaborn library\n",
    "sns.heatmap(confusion, annot=True, cmap='Blues', fmt='g')\n",
    "plt.xlabel('Predicted')\n",
    "plt.ylabel('True')\n",
    "plt.show()"
   ]
  },
  {
   "cell_type": "code",
   "execution_count": 23,
   "id": "4e8ee51d-e35f-41d3-9870-d69837abb67d",
   "metadata": {},
   "outputs": [
    {
     "name": "stdout",
     "output_type": "stream",
     "text": [
      "              precision    recall  f1-score   support\n",
      "\n",
      "           0       0.45      1.00      0.62       103\n",
      "           1       0.00      0.00      0.00       128\n",
      "\n",
      "    accuracy                           0.45       231\n",
      "   macro avg       0.22      0.50      0.31       231\n",
      "weighted avg       0.20      0.45      0.28       231\n",
      "\n"
     ]
    }
   ],
   "source": [
    "print(classification_report(y_test, y_pred_binary))"
   ]
  },
  {
   "cell_type": "markdown",
   "id": "6ea023ea-132b-4639-a4e0-24e59b98337c",
   "metadata": {},
   "source": [
    "##### 1.6.2 learning rate = 0.001"
   ]
  },
  {
   "cell_type": "code",
   "execution_count": 24,
   "id": "de283f37-b39d-44e2-9ad9-482e96dc6178",
   "metadata": {},
   "outputs": [],
   "source": [
    "# Initialize the neural network with 3 input neurons, 20 hidden neurons, and 1 output neuron\n",
    "nn = NeuralNetwork(input_size=X, hidden_size=20, output_size=Y)\n",
    "\n",
    "# Train the neural network for 1000 epochs\n",
    "mse_history = nn.train(X_train.values, y_train.values.reshape(-1,1), epochs=1000, learning_rate = 0.01)"
   ]
  },
  {
   "cell_type": "code",
   "execution_count": 25,
   "id": "6c583fa0-c624-4948-ab73-efffbcf3614c",
   "metadata": {},
   "outputs": [
    {
     "data": {
      "image/png": "[encoded data removed]",
      "text/plain": [
       "<Figure size 640x480 with 1 Axes>"
      ]
     },
     "metadata": {},
     "output_type": "display_data"
    }
   ],
   "source": [
    "# Plot the training curve\n",
    "plt.plot(mse_history)\n",
    "plt.xlabel('Epoch')\n",
    "plt.ylabel('MSE')\n",
    "plt.show()"
   ]
  },
  {
   "cell_type": "code",
   "execution_count": 26,
   "id": "41dd1d10-fe93-4251-a098-d998df0f19cb",
   "metadata": {},
   "outputs": [
    {
     "name": "stdout",
     "output_type": "stream",
     "text": [
      "FP rate: 0.5339805825242718\n",
      "TP rate: 0.8203125\n",
      "Accuracy: 0.6623376623376623\n"
     ]
    }
   ],
   "source": [
    "# Evaluate the performance of the trained network on the test data\n",
    "y_pred = nn.predict(X_test)\n",
    "y_pred_binary = np.round(y_pred)\n",
    "confusion = confusion_matrix(y_test, y_pred_binary)\n",
    "tn, fp, fn, tp = confusion.ravel()\n",
    "fp_rate = fp / (fp + tn)\n",
    "tp_rate = tp / (tp + fn)\n",
    "accuracy = accuracy_score(y_test, y_pred_binary)\n",
    "\n",
    "# Print the performance metrics\n",
    "print('FP rate:', fp_rate)\n",
    "print('TP rate:', tp_rate)\n",
    "print('Accuracy:', accuracy)"
   ]
  },
  {
   "cell_type": "code",
   "execution_count": 27,
   "id": "73831f5f-caf9-4b64-9518-f2733db829e9",
   "metadata": {},
   "outputs": [
    {
     "data": {
      "image/png": "[encoded data removed]",
      "text/plain": [
       "<Figure size 640x480 with 2 Axes>"
      ]
     },
     "metadata": {},
     "output_type": "display_data"
    }
   ],
   "source": [
    "# plot the confusion matrix as a heatmap using seaborn library\n",
    "sns.heatmap(confusion, annot=True, cmap='Blues', fmt='g')\n",
    "plt.xlabel('Predicted')\n",
    "plt.ylabel('True')\n",
    "plt.show()"
   ]
  },
  {
   "cell_type": "code",
   "execution_count": 28,
   "id": "abb5de13-a6c8-4db8-ba18-8adab8fb1899",
   "metadata": {},
   "outputs": [
    {
     "name": "stdout",
     "output_type": "stream",
     "text": [
      "              precision    recall  f1-score   support\n",
      "\n",
      "           0       0.68      0.47      0.55       103\n",
      "           1       0.66      0.82      0.73       128\n",
      "\n",
      "    accuracy                           0.66       231\n",
      "   macro avg       0.67      0.64      0.64       231\n",
      "weighted avg       0.67      0.66      0.65       231\n",
      "\n"
     ]
    }
   ],
   "source": [
    "print(classification_report(y_test, y_pred_binary))"
   ]
  },
  {
   "cell_type": "markdown",
   "id": "832bec64-5556-42bc-aea9-b08e7e3178d3",
   "metadata": {},
   "source": [
    "##### 1.6.3 neural network classifier with 12 hidden neurons "
   ]
  },
  {
   "cell_type": "code",
   "execution_count": 29,
   "id": "b729be15-ed8d-4474-b047-c6fb494d9e64",
   "metadata": {},
   "outputs": [],
   "source": [
    "# Initialize the neural network with 3 input neurons, 12 hidden neurons, and 1 output neuron\n",
    "nn = NeuralNetwork(input_size=X, hidden_size=12, output_size=Y)\n",
    "\n",
    "# Train the neural network for 1000 epochs\n",
    "mse_history = nn.train(X_train.values, y_train.values.reshape(-1,1), epochs=1000, learning_rate = 0.01)"
   ]
  },
  {
   "cell_type": "code",
   "execution_count": 30,
   "id": "0533924b-8f4c-428c-9296-50626415c133",
   "metadata": {},
   "outputs": [
    {
     "data": {
      "image/png": "[encoded data removed]",
      "text/plain": [
       "<Figure size 640x480 with 1 Axes>"
      ]
     },
     "metadata": {},
     "output_type": "display_data"
    }
   ],
   "source": [
    "# Plot the training curve\n",
    "plt.plot(mse_history)\n",
    "plt.xlabel('Epoch')\n",
    "plt.ylabel('MSE')\n",
    "plt.show()"
   ]
  },
  {
   "cell_type": "code",
   "execution_count": 31,
   "id": "b3bde7e8-cc71-45ae-9492-fcfa5608daed",
   "metadata": {},
   "outputs": [
    {
     "name": "stdout",
     "output_type": "stream",
     "text": [
      "FP rate: 0.06796116504854369\n",
      "TP rate: 0.40625\n",
      "Accuracy: 0.6406926406926406\n"
     ]
    }
   ],
   "source": [
    "# Evaluate the performance of the trained network on the test data\n",
    "y_pred = nn.predict(X_test)\n",
    "y_pred_binary = np.round(y_pred)\n",
    "confusion = confusion_matrix(y_test, y_pred_binary)\n",
    "tn, fp, fn, tp = confusion.ravel()\n",
    "fp_rate = fp / (fp + tn)\n",
    "tp_rate = tp / (tp + fn)\n",
    "accuracy = accuracy_score(y_test, y_pred_binary)\n",
    "\n",
    "# Print the performance metrics\n",
    "print('FP rate:', fp_rate)\n",
    "print('TP rate:', tp_rate)\n",
    "print('Accuracy:', accuracy)"
   ]
  },
  {
   "cell_type": "code",
   "execution_count": 32,
   "id": "69cf154c-d207-47c8-9d86-9c14f14ea0b7",
   "metadata": {},
   "outputs": [
    {
     "data": {
      "image/png": "[encoded data removed]",
      "text/plain": [
       "<Figure size 640x480 with 2 Axes>"
      ]
     },
     "metadata": {},
     "output_type": "display_data"
    }
   ],
   "source": [
    "# plot the confusion matrix as a heatmap using seaborn library\n",
    "sns.heatmap(confusion, annot=True, cmap='Blues', fmt='g')\n",
    "plt.xlabel('Predicted')\n",
    "plt.ylabel('True')\n",
    "plt.show()"
   ]
  },
  {
   "cell_type": "code",
   "execution_count": 33,
   "id": "e73ec23e-444c-4d43-9292-e9497b480430",
   "metadata": {},
   "outputs": [
    {
     "name": "stdout",
     "output_type": "stream",
     "text": [
      "              precision    recall  f1-score   support\n",
      "\n",
      "           0       0.56      0.93      0.70       103\n",
      "           1       0.88      0.41      0.56       128\n",
      "\n",
      "    accuracy                           0.64       231\n",
      "   macro avg       0.72      0.67      0.63       231\n",
      "weighted avg       0.74      0.64      0.62       231\n",
      "\n"
     ]
    }
   ],
   "source": [
    "print(classification_report(y_test, y_pred_binary))"
   ]
  },
  {
   "cell_type": "markdown",
   "id": "60dcaa4e-b153-405a-9034-eb3e1a31a068",
   "metadata": {},
   "source": [
    "##### 1.6.4 neural network classifier with 30 hidden neurons "
   ]
  },
  {
   "cell_type": "code",
   "execution_count": 34,
   "id": "5cbe54ad-88ea-4b9b-95b0-afa0032d25a5",
   "metadata": {},
   "outputs": [],
   "source": [
    "# Initialize the neural network with 3 input neurons, 30 hidden neurons, and 1 output neuron\n",
    "nn = NeuralNetwork(input_size=X, hidden_size=30, output_size=Y)\n",
    "\n",
    "# Train the neural network for 1000 epochs\n",
    "mse_history = nn.train(X_train.values, y_train.values.reshape(-1,1), epochs=1000, learning_rate = 0.01)"
   ]
  },
  {
   "cell_type": "code",
   "execution_count": 35,
   "id": "43a30eff-bfa0-434d-98ef-dacb062295d3",
   "metadata": {},
   "outputs": [
    {
     "data": {
      "image/png": "[encoded data removed]",
      "text/plain": [
       "<Figure size 640x480 with 1 Axes>"
      ]
     },
     "metadata": {},
     "output_type": "display_data"
    }
   ],
   "source": [
    "# Plot the training curve\n",
    "plt.plot(mse_history)\n",
    "plt.xlabel('Epoch')\n",
    "plt.ylabel('MSE')\n",
    "plt.show()"
   ]
  },
  {
   "cell_type": "code",
   "execution_count": 36,
   "id": "c0538e7f-c39e-485e-a533-9bb4ec002dc5",
   "metadata": {},
   "outputs": [
    {
     "name": "stdout",
     "output_type": "stream",
     "text": [
      "FP rate: 0.5048543689320388\n",
      "TP rate: 0.8359375\n",
      "Accuracy: 0.683982683982684\n"
     ]
    }
   ],
   "source": [
    "# Evaluate the performance of the trained network on the test data\n",
    "y_pred = nn.predict(X_test)\n",
    "y_pred_binary = np.round(y_pred)\n",
    "confusion = confusion_matrix(y_test, y_pred_binary)\n",
    "tn, fp, fn, tp = confusion.ravel()\n",
    "fp_rate = fp / (fp + tn)\n",
    "tp_rate = tp / (tp + fn)\n",
    "accuracy = accuracy_score(y_test, y_pred_binary)\n",
    "\n",
    "# Print the performance metrics\n",
    "print('FP rate:', fp_rate)\n",
    "print('TP rate:', tp_rate)\n",
    "print('Accuracy:', accuracy)"
   ]
  },
  {
   "cell_type": "code",
   "execution_count": 37,
   "id": "1ac2f5c5-d4c6-46ab-aeb9-a9dfb1baf083",
   "metadata": {},
   "outputs": [
    {
     "data": {
      "image/png": "[encoded data removed]",
      "text/plain": [
       "<Figure size 640x480 with 2 Axes>"
      ]
     },
     "metadata": {},
     "output_type": "display_data"
    }
   ],
   "source": [
    "# plot the confusion matrix as a heatmap using seaborn library\n",
    "sns.heatmap(confusion, annot=True, cmap='Blues', fmt='g')\n",
    "plt.xlabel('Predicted')\n",
    "plt.ylabel('True')\n",
    "plt.show()"
   ]
  },
  {
   "cell_type": "code",
   "execution_count": 38,
   "id": "4629ba32-9dec-400b-b64f-bdcb59c24497",
   "metadata": {},
   "outputs": [
    {
     "name": "stdout",
     "output_type": "stream",
     "text": [
      "              precision    recall  f1-score   support\n",
      "\n",
      "           0       0.71      0.50      0.58       103\n",
      "           1       0.67      0.84      0.75       128\n",
      "\n",
      "    accuracy                           0.68       231\n",
      "   macro avg       0.69      0.67      0.66       231\n",
      "weighted avg       0.69      0.68      0.67       231\n",
      "\n"
     ]
    }
   ],
   "source": [
    "print(classification_report(y_test, y_pred_binary))"
   ]
  },
  {
   "cell_type": "markdown",
   "id": "bcd00480-b533-4a5c-9aa9-333bb7e39c89",
   "metadata": {},
   "source": [
    "### Part 2"
   ]
  },
  {
   "cell_type": "markdown",
   "id": "3f40ae76-2b37-40e3-9614-bf7f1c6383a0",
   "metadata": {},
   "source": [
    "#### 2.1 Dataset"
   ]
  },
  {
   "cell_type": "code",
   "execution_count": 39,
   "id": "876cf907-bad2-4d30-b740-67d5cfdaf49e",
   "metadata": {},
   "outputs": [
    {
     "data": {
      "text/html": [
       "<div>\n",
       "<style scoped>\n",
       "    .dataframe tbody tr th:only-of-type {\n",
       "        vertical-align: middle;\n",
       "    }\n",
       "\n",
       "    .dataframe tbody tr th {\n",
       "        vertical-align: top;\n",
       "    }\n",
       "\n",
       "    .dataframe thead th {\n",
       "        text-align: right;\n",
       "    }\n",
       "</style>\n",
       "<table border=\"1\" class=\"dataframe\">\n",
       "  <thead>\n",
       "    <tr style=\"text-align: right;\">\n",
       "      <th></th>\n",
       "      <th>2</th>\n",
       "      <th>3</th>\n",
       "      <th>4</th>\n",
       "      <th>5</th>\n",
       "      <th>6</th>\n",
       "      <th>7</th>\n",
       "      <th>8</th>\n",
       "      <th>9</th>\n",
       "      <th>10</th>\n",
       "      <th>11</th>\n",
       "      <th>12</th>\n",
       "      <th>13</th>\n",
       "      <th>14</th>\n",
       "      <th>15</th>\n",
       "      <th>16</th>\n",
       "      <th>17</th>\n",
       "      <th>18</th>\n",
       "    </tr>\n",
       "  </thead>\n",
       "  <tbody>\n",
       "    <tr>\n",
       "      <th>0</th>\n",
       "      <td>0.140000</td>\n",
       "      <td>0.160305</td>\n",
       "      <td>0.176471</td>\n",
       "      <td>0.173077</td>\n",
       "      <td>0.177083</td>\n",
       "      <td>0.147727</td>\n",
       "      <td>0.122764</td>\n",
       "      <td>0.106359</td>\n",
       "      <td>0.049693</td>\n",
       "      <td>0.012913</td>\n",
       "      <td>0.000362</td>\n",
       "      <td>0.000342</td>\n",
       "      <td>0.000661</td>\n",
       "      <td>0.001271</td>\n",
       "      <td>0.530801</td>\n",
       "      <td>0.261133</td>\n",
       "      <td>1.0</td>\n",
       "    </tr>\n",
       "    <tr>\n",
       "      <th>1</th>\n",
       "      <td>0.153333</td>\n",
       "      <td>0.175573</td>\n",
       "      <td>0.176471</td>\n",
       "      <td>0.163462</td>\n",
       "      <td>0.156250</td>\n",
       "      <td>0.136364</td>\n",
       "      <td>0.142126</td>\n",
       "      <td>0.142403</td>\n",
       "      <td>0.031351</td>\n",
       "      <td>0.003918</td>\n",
       "      <td>0.000076</td>\n",
       "      <td>0.000194</td>\n",
       "      <td>0.000657</td>\n",
       "      <td>0.001264</td>\n",
       "      <td>0.682302</td>\n",
       "      <td>0.536341</td>\n",
       "      <td>0.0</td>\n",
       "    </tr>\n",
       "    <tr>\n",
       "      <th>2</th>\n",
       "      <td>0.406667</td>\n",
       "      <td>0.450382</td>\n",
       "      <td>0.487395</td>\n",
       "      <td>0.509615</td>\n",
       "      <td>0.479167</td>\n",
       "      <td>0.363636</td>\n",
       "      <td>0.137472</td>\n",
       "      <td>0.167497</td>\n",
       "      <td>0.119614</td>\n",
       "      <td>0.081188</td>\n",
       "      <td>0.027106</td>\n",
       "      <td>0.018571</td>\n",
       "      <td>0.007043</td>\n",
       "      <td>0.002509</td>\n",
       "      <td>0.726836</td>\n",
       "      <td>0.437973</td>\n",
       "      <td>0.0</td>\n",
       "    </tr>\n",
       "    <tr>\n",
       "      <th>3</th>\n",
       "      <td>0.360000</td>\n",
       "      <td>0.396947</td>\n",
       "      <td>0.436975</td>\n",
       "      <td>0.471154</td>\n",
       "      <td>0.437500</td>\n",
       "      <td>0.340909</td>\n",
       "      <td>0.099403</td>\n",
       "      <td>0.110368</td>\n",
       "      <td>0.085971</td>\n",
       "      <td>0.051525</td>\n",
       "      <td>0.016340</td>\n",
       "      <td>0.013555</td>\n",
       "      <td>0.001289</td>\n",
       "      <td>0.000496</td>\n",
       "      <td>0.514678</td>\n",
       "      <td>0.352675</td>\n",
       "      <td>0.0</td>\n",
       "    </tr>\n",
       "    <tr>\n",
       "      <th>4</th>\n",
       "      <td>0.286667</td>\n",
       "      <td>0.328244</td>\n",
       "      <td>0.361345</td>\n",
       "      <td>0.384615</td>\n",
       "      <td>0.395833</td>\n",
       "      <td>0.295455</td>\n",
       "      <td>0.043799</td>\n",
       "      <td>0.051281</td>\n",
       "      <td>0.003869</td>\n",
       "      <td>0.000000</td>\n",
       "      <td>0.000000</td>\n",
       "      <td>0.000000</td>\n",
       "      <td>0.000000</td>\n",
       "      <td>0.000000</td>\n",
       "      <td>0.481936</td>\n",
       "      <td>0.407122</td>\n",
       "      <td>0.0</td>\n",
       "    </tr>\n",
       "    <tr>\n",
       "      <th>...</th>\n",
       "      <td>...</td>\n",
       "      <td>...</td>\n",
       "      <td>...</td>\n",
       "      <td>...</td>\n",
       "      <td>...</td>\n",
       "      <td>...</td>\n",
       "      <td>...</td>\n",
       "      <td>...</td>\n",
       "      <td>...</td>\n",
       "      <td>...</td>\n",
       "      <td>...</td>\n",
       "      <td>...</td>\n",
       "      <td>...</td>\n",
       "      <td>...</td>\n",
       "      <td>...</td>\n",
       "      <td>...</td>\n",
       "      <td>...</td>\n",
       "    </tr>\n",
       "    <tr>\n",
       "      <th>1146</th>\n",
       "      <td>0.220000</td>\n",
       "      <td>0.251908</td>\n",
       "      <td>0.277311</td>\n",
       "      <td>0.307692</td>\n",
       "      <td>0.312500</td>\n",
       "      <td>0.261364</td>\n",
       "      <td>0.014179</td>\n",
       "      <td>0.005609</td>\n",
       "      <td>0.000294</td>\n",
       "      <td>0.000052</td>\n",
       "      <td>0.000000</td>\n",
       "      <td>0.000000</td>\n",
       "      <td>0.000000</td>\n",
       "      <td>0.000000</td>\n",
       "      <td>0.756089</td>\n",
       "      <td>0.365106</td>\n",
       "      <td>0.0</td>\n",
       "    </tr>\n",
       "    <tr>\n",
       "      <th>1147</th>\n",
       "      <td>0.320000</td>\n",
       "      <td>0.366412</td>\n",
       "      <td>0.403361</td>\n",
       "      <td>0.461538</td>\n",
       "      <td>0.458333</td>\n",
       "      <td>0.409091</td>\n",
       "      <td>0.155722</td>\n",
       "      <td>0.163809</td>\n",
       "      <td>0.076060</td>\n",
       "      <td>0.016390</td>\n",
       "      <td>0.000030</td>\n",
       "      <td>0.000000</td>\n",
       "      <td>0.000000</td>\n",
       "      <td>0.000000</td>\n",
       "      <td>0.663701</td>\n",
       "      <td>0.410954</td>\n",
       "      <td>0.0</td>\n",
       "    </tr>\n",
       "    <tr>\n",
       "      <th>1148</th>\n",
       "      <td>0.320000</td>\n",
       "      <td>0.358779</td>\n",
       "      <td>0.394958</td>\n",
       "      <td>0.423077</td>\n",
       "      <td>0.437500</td>\n",
       "      <td>0.363636</td>\n",
       "      <td>0.074612</td>\n",
       "      <td>0.083569</td>\n",
       "      <td>0.016624</td>\n",
       "      <td>0.002307</td>\n",
       "      <td>0.000218</td>\n",
       "      <td>0.000000</td>\n",
       "      <td>0.000000</td>\n",
       "      <td>0.000000</td>\n",
       "      <td>0.859281</td>\n",
       "      <td>0.446002</td>\n",
       "      <td>0.0</td>\n",
       "    </tr>\n",
       "    <tr>\n",
       "      <th>1149</th>\n",
       "      <td>0.253333</td>\n",
       "      <td>0.267176</td>\n",
       "      <td>0.235294</td>\n",
       "      <td>0.211538</td>\n",
       "      <td>0.125000</td>\n",
       "      <td>0.068182</td>\n",
       "      <td>0.099548</td>\n",
       "      <td>0.075419</td>\n",
       "      <td>0.044696</td>\n",
       "      <td>0.018030</td>\n",
       "      <td>0.010958</td>\n",
       "      <td>0.016263</td>\n",
       "      <td>0.040346</td>\n",
       "      <td>0.056559</td>\n",
       "      <td>0.526653</td>\n",
       "      <td>0.302456</td>\n",
       "      <td>1.0</td>\n",
       "    </tr>\n",
       "    <tr>\n",
       "      <th>1150</th>\n",
       "      <td>0.040000</td>\n",
       "      <td>0.045802</td>\n",
       "      <td>0.050420</td>\n",
       "      <td>0.057692</td>\n",
       "      <td>0.062500</td>\n",
       "      <td>0.045455</td>\n",
       "      <td>0.171150</td>\n",
       "      <td>0.042074</td>\n",
       "      <td>0.016504</td>\n",
       "      <td>0.000780</td>\n",
       "      <td>0.000412</td>\n",
       "      <td>0.000422</td>\n",
       "      <td>0.000000</td>\n",
       "      <td>0.000000</td>\n",
       "      <td>0.839500</td>\n",
       "      <td>0.192513</td>\n",
       "      <td>0.0</td>\n",
       "    </tr>\n",
       "  </tbody>\n",
       "</table>\n",
       "<p>1151 rows × 17 columns</p>\n",
       "</div>"
      ],
      "text/plain": [
       "             2         3         4         5         6         7         8  \\\n",
       "0     0.140000  0.160305  0.176471  0.173077  0.177083  0.147727  0.122764   \n",
       "1     0.153333  0.175573  0.176471  0.163462  0.156250  0.136364  0.142126   \n",
       "2     0.406667  0.450382  0.487395  0.509615  0.479167  0.363636  0.137472   \n",
       "3     0.360000  0.396947  0.436975  0.471154  0.437500  0.340909  0.099403   \n",
       "4     0.286667  0.328244  0.361345  0.384615  0.395833  0.295455  0.043799   \n",
       "...        ...       ...       ...       ...       ...       ...       ...   \n",
       "1146  0.220000  0.251908  0.277311  0.307692  0.312500  0.261364  0.014179   \n",
       "1147  0.320000  0.366412  0.403361  0.461538  0.458333  0.409091  0.155722   \n",
       "1148  0.320000  0.358779  0.394958  0.423077  0.437500  0.363636  0.074612   \n",
       "1149  0.253333  0.267176  0.235294  0.211538  0.125000  0.068182  0.099548   \n",
       "1150  0.040000  0.045802  0.050420  0.057692  0.062500  0.045455  0.171150   \n",
       "\n",
       "             9        10        11        12        13        14        15  \\\n",
       "0     0.106359  0.049693  0.012913  0.000362  0.000342  0.000661  0.001271   \n",
       "1     0.142403  0.031351  0.003918  0.000076  0.000194  0.000657  0.001264   \n",
       "2     0.167497  0.119614  0.081188  0.027106  0.018571  0.007043  0.002509   \n",
       "3     0.110368  0.085971  0.051525  0.016340  0.013555  0.001289  0.000496   \n",
       "4     0.051281  0.003869  0.000000  0.000000  0.000000  0.000000  0.000000   \n",
       "...        ...       ...       ...       ...       ...       ...       ...   \n",
       "1146  0.005609  0.000294  0.000052  0.000000  0.000000  0.000000  0.000000   \n",
       "1147  0.163809  0.076060  0.016390  0.000030  0.000000  0.000000  0.000000   \n",
       "1148  0.083569  0.016624  0.002307  0.000218  0.000000  0.000000  0.000000   \n",
       "1149  0.075419  0.044696  0.018030  0.010958  0.016263  0.040346  0.056559   \n",
       "1150  0.042074  0.016504  0.000780  0.000412  0.000422  0.000000  0.000000   \n",
       "\n",
       "            16        17   18  \n",
       "0     0.530801  0.261133  1.0  \n",
       "1     0.682302  0.536341  0.0  \n",
       "2     0.726836  0.437973  0.0  \n",
       "3     0.514678  0.352675  0.0  \n",
       "4     0.481936  0.407122  0.0  \n",
       "...        ...       ...  ...  \n",
       "1146  0.756089  0.365106  0.0  \n",
       "1147  0.663701  0.410954  0.0  \n",
       "1148  0.859281  0.446002  0.0  \n",
       "1149  0.526653  0.302456  1.0  \n",
       "1150  0.839500  0.192513  0.0  \n",
       "\n",
       "[1151 rows x 17 columns]"
      ]
     },
     "execution_count": 39,
     "metadata": {},
     "output_type": "execute_result"
    }
   ],
   "source": [
    "features"
   ]
  },
  {
   "cell_type": "code",
   "execution_count": 40,
   "id": "3b41b6d9-ad16-4436-b8a7-b27492716209",
   "metadata": {},
   "outputs": [
    {
     "data": {
      "text/plain": [
       "0       0\n",
       "1       0\n",
       "2       1\n",
       "3       0\n",
       "4       1\n",
       "       ..\n",
       "1146    0\n",
       "1147    0\n",
       "1148    0\n",
       "1149    1\n",
       "1150    0\n",
       "Name: Class, Length: 1151, dtype: int64"
      ]
     },
     "execution_count": 40,
     "metadata": {},
     "output_type": "execute_result"
    }
   ],
   "source": [
    "y"
   ]
  },
  {
   "cell_type": "code",
   "execution_count": 41,
   "id": "46a49102-8bfa-4870-96dd-7632d2e7e8a9",
   "metadata": {},
   "outputs": [],
   "source": [
    "# Split into training and testing sets with a 80:20 ratio\n",
    "X_train, X_test, y_train, y_test = train_test_split(features, y, test_size=0.2, random_state=42)"
   ]
  },
  {
   "cell_type": "markdown",
   "id": "ecd5fe3a-05c4-47c9-9ca1-f2c0ffaeaf20",
   "metadata": {},
   "source": [
    "#### 2.2 Multilayer feedforward neural network"
   ]
  },
  {
   "cell_type": "code",
   "execution_count": 42,
   "id": "d90bf4f7-9189-48a4-b1e2-921655cc51b4",
   "metadata": {},
   "outputs": [],
   "source": [
    "# Define the model\n",
    "model = Sequential()\n",
    "model.add(Dense(20, input_dim=X_train.shape[1], activation='relu'))\n",
    "model.add(Dense(1, activation='sigmoid'))"
   ]
  },
  {
   "cell_type": "code",
   "execution_count": 43,
   "id": "be3005aa-61d9-4b3d-9af3-2bf9b0611309",
   "metadata": {},
   "outputs": [
    {
     "name": "stdout",
     "output_type": "stream",
     "text": [
      "Epoch 1/100\n",
      "23/23 [==============================] - 1s 14ms/step - loss: 0.7328 - accuracy: 0.4293 - val_loss: 0.7176 - val_accuracy: 0.4293\n",
      "Epoch 2/100\n",
      "23/23 [==============================] - 0s 3ms/step - loss: 0.7084 - accuracy: 0.4266 - val_loss: 0.6983 - val_accuracy: 0.4348\n",
      "Epoch 3/100\n",
      "23/23 [==============================] - 0s 3ms/step - loss: 0.6972 - accuracy: 0.4851 - val_loss: 0.6904 - val_accuracy: 0.5380\n",
      "Epoch 4/100\n",
      "23/23 [==============================] - 0s 3ms/step - loss: 0.6906 - accuracy: 0.5190 - val_loss: 0.6857 - val_accuracy: 0.5435\n",
      "Epoch 5/100\n",
      "23/23 [==============================] - 0s 3ms/step - loss: 0.6862 - accuracy: 0.5326 - val_loss: 0.6824 - val_accuracy: 0.5707\n",
      "Epoch 6/100\n",
      "23/23 [==============================] - 0s 3ms/step - loss: 0.6819 - accuracy: 0.5448 - val_loss: 0.6786 - val_accuracy: 0.5815\n",
      "Epoch 7/100\n",
      "23/23 [==============================] - 0s 3ms/step - loss: 0.6786 - accuracy: 0.5543 - val_loss: 0.6758 - val_accuracy: 0.5924\n",
      "Epoch 8/100\n",
      "23/23 [==============================] - 0s 4ms/step - loss: 0.6756 - accuracy: 0.5734 - val_loss: 0.6740 - val_accuracy: 0.6141\n",
      "Epoch 9/100\n",
      "23/23 [==============================] - 0s 3ms/step - loss: 0.6718 - accuracy: 0.6046 - val_loss: 0.6714 - val_accuracy: 0.5978\n",
      "Epoch 10/100\n",
      "23/23 [==============================] - 0s 3ms/step - loss: 0.6689 - accuracy: 0.6114 - val_loss: 0.6688 - val_accuracy: 0.5978\n",
      "Epoch 11/100\n",
      "23/23 [==============================] - 0s 4ms/step - loss: 0.6666 - accuracy: 0.6141 - val_loss: 0.6662 - val_accuracy: 0.5924\n",
      "Epoch 12/100\n",
      "23/23 [==============================] - 0s 4ms/step - loss: 0.6642 - accuracy: 0.6019 - val_loss: 0.6640 - val_accuracy: 0.5978\n",
      "Epoch 13/100\n",
      "23/23 [==============================] - 0s 3ms/step - loss: 0.6618 - accuracy: 0.6250 - val_loss: 0.6617 - val_accuracy: 0.5924\n",
      "Epoch 14/100\n",
      "23/23 [==============================] - 0s 3ms/step - loss: 0.6597 - accuracy: 0.6182 - val_loss: 0.6600 - val_accuracy: 0.5924\n",
      "Epoch 15/100\n",
      "23/23 [==============================] - 0s 3ms/step - loss: 0.6577 - accuracy: 0.6168 - val_loss: 0.6583 - val_accuracy: 0.5924\n",
      "Epoch 16/100\n",
      "23/23 [==============================] - 0s 3ms/step - loss: 0.6558 - accuracy: 0.6141 - val_loss: 0.6562 - val_accuracy: 0.6087\n",
      "Epoch 17/100\n",
      "23/23 [==============================] - 0s 3ms/step - loss: 0.6541 - accuracy: 0.6168 - val_loss: 0.6543 - val_accuracy: 0.5924\n",
      "Epoch 18/100\n",
      "23/23 [==============================] - 0s 3ms/step - loss: 0.6526 - accuracy: 0.6182 - val_loss: 0.6527 - val_accuracy: 0.5924\n",
      "Epoch 19/100\n",
      "23/23 [==============================] - 0s 3ms/step - loss: 0.6510 - accuracy: 0.6168 - val_loss: 0.6506 - val_accuracy: 0.5870\n",
      "Epoch 20/100\n",
      "23/23 [==============================] - 0s 3ms/step - loss: 0.6498 - accuracy: 0.6196 - val_loss: 0.6487 - val_accuracy: 0.5761\n",
      "Epoch 21/100\n",
      "23/23 [==============================] - 0s 3ms/step - loss: 0.6489 - accuracy: 0.6128 - val_loss: 0.6478 - val_accuracy: 0.5870\n",
      "Epoch 22/100\n",
      "23/23 [==============================] - 0s 3ms/step - loss: 0.6462 - accuracy: 0.6196 - val_loss: 0.6455 - val_accuracy: 0.5761\n",
      "Epoch 23/100\n",
      "23/23 [==============================] - 0s 3ms/step - loss: 0.6451 - accuracy: 0.6209 - val_loss: 0.6441 - val_accuracy: 0.5761\n",
      "Epoch 24/100\n",
      "23/23 [==============================] - 0s 4ms/step - loss: 0.6438 - accuracy: 0.6128 - val_loss: 0.6424 - val_accuracy: 0.5870\n",
      "Epoch 25/100\n",
      "23/23 [==============================] - 0s 3ms/step - loss: 0.6425 - accuracy: 0.6209 - val_loss: 0.6407 - val_accuracy: 0.5815\n",
      "Epoch 26/100\n",
      "23/23 [==============================] - 0s 3ms/step - loss: 0.6408 - accuracy: 0.6182 - val_loss: 0.6393 - val_accuracy: 0.5870\n",
      "Epoch 27/100\n",
      "23/23 [==============================] - 0s 3ms/step - loss: 0.6401 - accuracy: 0.6155 - val_loss: 0.6377 - val_accuracy: 0.5761\n",
      "Epoch 28/100\n",
      "23/23 [==============================] - 0s 3ms/step - loss: 0.6385 - accuracy: 0.6209 - val_loss: 0.6364 - val_accuracy: 0.5815\n",
      "Epoch 29/100\n",
      "23/23 [==============================] - 0s 3ms/step - loss: 0.6374 - accuracy: 0.6182 - val_loss: 0.6351 - val_accuracy: 0.5870\n",
      "Epoch 30/100\n",
      "23/23 [==============================] - 0s 3ms/step - loss: 0.6362 - accuracy: 0.6196 - val_loss: 0.6338 - val_accuracy: 0.5761\n",
      "Epoch 31/100\n",
      "23/23 [==============================] - 0s 3ms/step - loss: 0.6353 - accuracy: 0.6196 - val_loss: 0.6322 - val_accuracy: 0.5761\n",
      "Epoch 32/100\n",
      "23/23 [==============================] - 0s 3ms/step - loss: 0.6340 - accuracy: 0.6182 - val_loss: 0.6310 - val_accuracy: 0.5761\n",
      "Epoch 33/100\n",
      "23/23 [==============================] - 0s 3ms/step - loss: 0.6333 - accuracy: 0.6168 - val_loss: 0.6295 - val_accuracy: 0.5761\n",
      "Epoch 34/100\n",
      "23/23 [==============================] - 0s 3ms/step - loss: 0.6322 - accuracy: 0.6372 - val_loss: 0.6284 - val_accuracy: 0.5978\n",
      "Epoch 35/100\n",
      "23/23 [==============================] - 0s 3ms/step - loss: 0.6306 - accuracy: 0.6196 - val_loss: 0.6271 - val_accuracy: 0.5870\n",
      "Epoch 36/100\n",
      "23/23 [==============================] - 0s 3ms/step - loss: 0.6295 - accuracy: 0.6236 - val_loss: 0.6257 - val_accuracy: 0.5815\n",
      "Epoch 37/100\n",
      "23/23 [==============================] - 0s 3ms/step - loss: 0.6286 - accuracy: 0.6264 - val_loss: 0.6246 - val_accuracy: 0.5978\n",
      "Epoch 38/100\n",
      "23/23 [==============================] - 0s 3ms/step - loss: 0.6273 - accuracy: 0.6332 - val_loss: 0.6233 - val_accuracy: 0.6087\n",
      "Epoch 39/100\n",
      "23/23 [==============================] - 0s 3ms/step - loss: 0.6264 - accuracy: 0.6318 - val_loss: 0.6220 - val_accuracy: 0.6087\n",
      "Epoch 40/100\n",
      "23/23 [==============================] - 0s 3ms/step - loss: 0.6256 - accuracy: 0.6223 - val_loss: 0.6210 - val_accuracy: 0.6087\n",
      "Epoch 41/100\n",
      "23/23 [==============================] - 0s 3ms/step - loss: 0.6245 - accuracy: 0.6332 - val_loss: 0.6197 - val_accuracy: 0.6141\n",
      "Epoch 42/100\n",
      "23/23 [==============================] - 0s 4ms/step - loss: 0.6234 - accuracy: 0.6359 - val_loss: 0.6185 - val_accuracy: 0.6087\n",
      "Epoch 43/100\n",
      "23/23 [==============================] - 0s 3ms/step - loss: 0.6226 - accuracy: 0.6359 - val_loss: 0.6173 - val_accuracy: 0.6196\n",
      "Epoch 44/100\n",
      "23/23 [==============================] - 0s 2ms/step - loss: 0.6226 - accuracy: 0.6304 - val_loss: 0.6162 - val_accuracy: 0.6087\n",
      "Epoch 45/100\n",
      "23/23 [==============================] - 0s 2ms/step - loss: 0.6207 - accuracy: 0.6386 - val_loss: 0.6153 - val_accuracy: 0.6087\n",
      "Epoch 46/100\n",
      "23/23 [==============================] - 0s 2ms/step - loss: 0.6194 - accuracy: 0.6386 - val_loss: 0.6139 - val_accuracy: 0.6196\n",
      "Epoch 47/100\n",
      "23/23 [==============================] - 0s 3ms/step - loss: 0.6189 - accuracy: 0.6413 - val_loss: 0.6126 - val_accuracy: 0.6196\n",
      "Epoch 48/100\n",
      "23/23 [==============================] - 0s 3ms/step - loss: 0.6177 - accuracy: 0.6372 - val_loss: 0.6112 - val_accuracy: 0.6141\n",
      "Epoch 49/100\n",
      "23/23 [==============================] - 0s 4ms/step - loss: 0.6169 - accuracy: 0.6386 - val_loss: 0.6101 - val_accuracy: 0.6087\n",
      "Epoch 50/100\n",
      "23/23 [==============================] - 0s 3ms/step - loss: 0.6156 - accuracy: 0.6413 - val_loss: 0.6088 - val_accuracy: 0.6141\n",
      "Epoch 51/100\n",
      "23/23 [==============================] - 0s 4ms/step - loss: 0.6152 - accuracy: 0.6440 - val_loss: 0.6076 - val_accuracy: 0.6141\n",
      "Epoch 52/100\n",
      "23/23 [==============================] - 0s 4ms/step - loss: 0.6144 - accuracy: 0.6467 - val_loss: 0.6067 - val_accuracy: 0.6196\n",
      "Epoch 53/100\n",
      "23/23 [==============================] - 0s 5ms/step - loss: 0.6139 - accuracy: 0.6413 - val_loss: 0.6060 - val_accuracy: 0.6033\n",
      "Epoch 54/100\n",
      "23/23 [==============================] - 0s 3ms/step - loss: 0.6123 - accuracy: 0.6481 - val_loss: 0.6046 - val_accuracy: 0.6250\n",
      "Epoch 55/100\n",
      "23/23 [==============================] - 0s 3ms/step - loss: 0.6114 - accuracy: 0.6495 - val_loss: 0.6032 - val_accuracy: 0.6196\n",
      "Epoch 56/100\n",
      "23/23 [==============================] - 0s 3ms/step - loss: 0.6116 - accuracy: 0.6495 - val_loss: 0.6027 - val_accuracy: 0.6250\n",
      "Epoch 57/100\n",
      "23/23 [==============================] - 0s 3ms/step - loss: 0.6089 - accuracy: 0.6522 - val_loss: 0.6011 - val_accuracy: 0.6250\n",
      "Epoch 58/100\n",
      "23/23 [==============================] - 0s 4ms/step - loss: 0.6099 - accuracy: 0.6399 - val_loss: 0.6004 - val_accuracy: 0.6196\n",
      "Epoch 59/100\n",
      "23/23 [==============================] - 0s 3ms/step - loss: 0.6088 - accuracy: 0.6467 - val_loss: 0.5990 - val_accuracy: 0.6250\n",
      "Epoch 60/100\n",
      "23/23 [==============================] - 0s 5ms/step - loss: 0.6072 - accuracy: 0.6508 - val_loss: 0.5979 - val_accuracy: 0.6304\n",
      "Epoch 61/100\n",
      "23/23 [==============================] - 0s 3ms/step - loss: 0.6070 - accuracy: 0.6522 - val_loss: 0.5970 - val_accuracy: 0.6359\n",
      "Epoch 62/100\n",
      "23/23 [==============================] - 0s 3ms/step - loss: 0.6054 - accuracy: 0.6562 - val_loss: 0.5957 - val_accuracy: 0.6304\n",
      "Epoch 63/100\n",
      "23/23 [==============================] - 0s 3ms/step - loss: 0.6055 - accuracy: 0.6535 - val_loss: 0.5944 - val_accuracy: 0.6250\n",
      "Epoch 64/100\n",
      "23/23 [==============================] - 0s 3ms/step - loss: 0.6051 - accuracy: 0.6522 - val_loss: 0.5945 - val_accuracy: 0.6359\n",
      "Epoch 65/100\n",
      "23/23 [==============================] - 0s 3ms/step - loss: 0.6035 - accuracy: 0.6549 - val_loss: 0.5924 - val_accuracy: 0.6359\n",
      "Epoch 66/100\n",
      "23/23 [==============================] - 0s 2ms/step - loss: 0.6024 - accuracy: 0.6658 - val_loss: 0.5916 - val_accuracy: 0.6304\n",
      "Epoch 67/100\n",
      "23/23 [==============================] - 0s 4ms/step - loss: 0.6017 - accuracy: 0.6590 - val_loss: 0.5909 - val_accuracy: 0.6304\n",
      "Epoch 68/100\n",
      "23/23 [==============================] - 0s 3ms/step - loss: 0.6006 - accuracy: 0.6630 - val_loss: 0.5894 - val_accuracy: 0.6359\n",
      "Epoch 69/100\n",
      "23/23 [==============================] - 0s 3ms/step - loss: 0.5998 - accuracy: 0.6617 - val_loss: 0.5888 - val_accuracy: 0.6413\n",
      "Epoch 70/100\n",
      "23/23 [==============================] - 0s 5ms/step - loss: 0.5998 - accuracy: 0.6603 - val_loss: 0.5872 - val_accuracy: 0.6359\n",
      "Epoch 71/100\n",
      "23/23 [==============================] - 0s 3ms/step - loss: 0.6000 - accuracy: 0.6671 - val_loss: 0.5868 - val_accuracy: 0.6630\n",
      "Epoch 72/100\n",
      "23/23 [==============================] - 0s 3ms/step - loss: 0.5995 - accuracy: 0.6562 - val_loss: 0.5868 - val_accuracy: 0.6467\n",
      "Epoch 73/100\n",
      "23/23 [==============================] - 0s 4ms/step - loss: 0.5975 - accuracy: 0.6603 - val_loss: 0.5845 - val_accuracy: 0.6685\n",
      "Epoch 74/100\n",
      "23/23 [==============================] - 0s 3ms/step - loss: 0.5963 - accuracy: 0.6685 - val_loss: 0.5839 - val_accuracy: 0.6413\n",
      "Epoch 75/100\n",
      "23/23 [==============================] - 0s 3ms/step - loss: 0.5956 - accuracy: 0.6644 - val_loss: 0.5827 - val_accuracy: 0.6467\n",
      "Epoch 76/100\n",
      "23/23 [==============================] - 0s 3ms/step - loss: 0.5957 - accuracy: 0.6726 - val_loss: 0.5819 - val_accuracy: 0.6522\n",
      "Epoch 77/100\n",
      "23/23 [==============================] - 0s 3ms/step - loss: 0.5941 - accuracy: 0.6658 - val_loss: 0.5805 - val_accuracy: 0.6793\n",
      "Epoch 78/100\n",
      "23/23 [==============================] - 0s 3ms/step - loss: 0.5937 - accuracy: 0.6658 - val_loss: 0.5800 - val_accuracy: 0.6630\n",
      "Epoch 79/100\n",
      "23/23 [==============================] - 0s 3ms/step - loss: 0.5953 - accuracy: 0.6590 - val_loss: 0.5797 - val_accuracy: 0.6630\n",
      "Epoch 80/100\n",
      "23/23 [==============================] - 0s 3ms/step - loss: 0.5916 - accuracy: 0.6685 - val_loss: 0.5781 - val_accuracy: 0.6739\n",
      "Epoch 81/100\n",
      "23/23 [==============================] - 0s 2ms/step - loss: 0.5917 - accuracy: 0.6658 - val_loss: 0.5771 - val_accuracy: 0.6739\n",
      "Epoch 82/100\n",
      "23/23 [==============================] - 0s 3ms/step - loss: 0.5908 - accuracy: 0.6658 - val_loss: 0.5762 - val_accuracy: 0.6739\n",
      "Epoch 83/100\n",
      "23/23 [==============================] - 0s 4ms/step - loss: 0.5918 - accuracy: 0.6658 - val_loss: 0.5751 - val_accuracy: 0.6848\n",
      "Epoch 84/100\n",
      "23/23 [==============================] - 0s 3ms/step - loss: 0.5895 - accuracy: 0.6685 - val_loss: 0.5744 - val_accuracy: 0.6739\n",
      "Epoch 85/100\n",
      "23/23 [==============================] - 0s 4ms/step - loss: 0.5893 - accuracy: 0.6685 - val_loss: 0.5741 - val_accuracy: 0.6848\n",
      "Epoch 86/100\n",
      "23/23 [==============================] - 0s 3ms/step - loss: 0.5886 - accuracy: 0.6793 - val_loss: 0.5726 - val_accuracy: 0.6848\n",
      "Epoch 87/100\n",
      "23/23 [==============================] - 0s 3ms/step - loss: 0.5879 - accuracy: 0.6780 - val_loss: 0.5722 - val_accuracy: 0.6848\n",
      "Epoch 88/100\n",
      "23/23 [==============================] - 0s 4ms/step - loss: 0.5877 - accuracy: 0.6739 - val_loss: 0.5714 - val_accuracy: 0.6793\n",
      "Epoch 89/100\n",
      "23/23 [==============================] - 0s 3ms/step - loss: 0.5866 - accuracy: 0.6753 - val_loss: 0.5701 - val_accuracy: 0.6848\n",
      "Epoch 90/100\n",
      "23/23 [==============================] - 0s 3ms/step - loss: 0.5859 - accuracy: 0.6753 - val_loss: 0.5700 - val_accuracy: 0.6902\n",
      "Epoch 91/100\n",
      "23/23 [==============================] - 0s 4ms/step - loss: 0.5857 - accuracy: 0.6753 - val_loss: 0.5686 - val_accuracy: 0.6902\n",
      "Epoch 92/100\n",
      "23/23 [==============================] - 0s 3ms/step - loss: 0.5854 - accuracy: 0.6712 - val_loss: 0.5680 - val_accuracy: 0.6848\n",
      "Epoch 93/100\n",
      "23/23 [==============================] - 0s 2ms/step - loss: 0.5857 - accuracy: 0.6807 - val_loss: 0.5668 - val_accuracy: 0.6957\n",
      "Epoch 94/100\n",
      "23/23 [==============================] - 0s 3ms/step - loss: 0.5837 - accuracy: 0.6766 - val_loss: 0.5667 - val_accuracy: 0.6957\n",
      "Epoch 95/100\n",
      "23/23 [==============================] - 0s 3ms/step - loss: 0.5829 - accuracy: 0.6793 - val_loss: 0.5655 - val_accuracy: 0.6848\n",
      "Epoch 96/100\n",
      "23/23 [==============================] - 0s 3ms/step - loss: 0.5826 - accuracy: 0.6766 - val_loss: 0.5647 - val_accuracy: 0.7011\n",
      "Epoch 97/100\n",
      "23/23 [==============================] - 0s 3ms/step - loss: 0.5825 - accuracy: 0.6726 - val_loss: 0.5637 - val_accuracy: 0.7011\n",
      "Epoch 98/100\n",
      "23/23 [==============================] - 0s 3ms/step - loss: 0.5822 - accuracy: 0.6739 - val_loss: 0.5637 - val_accuracy: 0.6902\n",
      "Epoch 99/100\n",
      "23/23 [==============================] - 0s 3ms/step - loss: 0.5813 - accuracy: 0.6753 - val_loss: 0.5624 - val_accuracy: 0.7065\n",
      "Epoch 100/100\n",
      "23/23 [==============================] - 0s 3ms/step - loss: 0.5806 - accuracy: 0.6875 - val_loss: 0.5616 - val_accuracy: 0.7011\n"
     ]
    }
   ],
   "source": [
    "# Compile the model\n",
    "model.compile(loss='binary_crossentropy', optimizer='adam', metrics=['accuracy'])\n",
    "\n",
    "# Train the model\n",
    "history = model.fit(X_train, y_train, epochs=100, batch_size=32, validation_split=0.2)"
   ]
  },
  {
   "cell_type": "code",
   "execution_count": 44,
   "id": "5d892c97-1633-47f8-b78d-d020e554c2a6",
   "metadata": {},
   "outputs": [
    {
     "data": {
      "image/png": "[encoded data removed]",
      "text/plain": [
       "<Figure size 640x480 with 1 Axes>"
      ]
     },
     "metadata": {},
     "output_type": "display_data"
    }
   ],
   "source": [
    "# Plot the training loss over epochs\n",
    "plt.plot(history.history['loss'])\n",
    "plt.title('Training Loss')\n",
    "plt.xlabel('Epoch')\n",
    "plt.ylabel('Loss')\n",
    "plt.show()"
   ]
  },
  {
   "cell_type": "code",
   "execution_count": 45,
   "id": "d3d92b70-af89-4086-98b5-dff01f3fa6bf",
   "metadata": {},
   "outputs": [
    {
     "name": "stdout",
     "output_type": "stream",
     "text": [
      "8/8 [==============================] - 0s 1ms/step\n",
      "Confusion Matrix:\n",
      " [[72 31]\n",
      " [48 80]]\n",
      "Accuracy: 0.658008658008658\n",
      "ROC AUC Score: 0.6620145631067961\n"
     ]
    }
   ],
   "source": [
    "# Evaluate the model on the testing set\n",
    "y_pred = (model.predict(X_test) > 0.5).astype(\"int32\")\n",
    "cm = confusion_matrix(y_test, y_pred)\n",
    "accuracy = accuracy_score(y_test, y_pred)\n",
    "roc_auc = roc_auc_score(y_test, y_pred)\n",
    "\n",
    "print('Confusion Matrix:\\n', cm)\n",
    "print('Accuracy:', accuracy)\n",
    "print('ROC AUC Score:', roc_auc)"
   ]
  },
  {
   "cell_type": "markdown",
   "id": "ab55ab38-f8da-4372-b14e-77ff6307e8c7",
   "metadata": {},
   "source": [
    "#### 2.3 Tune the parameters of the neural network model"
   ]
  },
  {
   "cell_type": "code",
   "execution_count": 46,
   "id": "3efa8af8-7a5c-4add-bbf3-c56d5d501f83",
   "metadata": {},
   "outputs": [],
   "source": [
    "# define the neural network model\n",
    "def create_model(neurons=1):\n",
    "    model = Sequential()\n",
    "    model.add(Dense(neurons, input_dim=17, activation='relu'))\n",
    "    model.add(Dense(1, activation='sigmoid'))\n",
    "    model.compile(loss='binary_crossentropy', optimizer='adam', metrics=['accuracy'])\n",
    "    return model"
   ]
  },
  {
   "cell_type": "code",
   "execution_count": 47,
   "id": "ea8b2e18-a696-498f-bf6c-31da6cafeb14",
   "metadata": {},
   "outputs": [
    {
     "name": "stdout",
     "output_type": "stream",
     "text": [
      "Best: 0.700000 using {'neurons': 25}\n"
     ]
    }
   ],
   "source": [
    "# create the Keras classifier for GridSearchCV\n",
    "model = KerasClassifier(build_fn=create_model, epochs=100, batch_size=32, verbose=0)\n",
    "\n",
    "# define the grid search parameters\n",
    "param_grid = {'neurons': [10, 15, 20, 25, 30]}\n",
    "\n",
    "# create the grid search object\n",
    "grid = GridSearchCV(estimator=model, param_grid=param_grid, cv=5)\n",
    "\n",
    "# perform the grid search\n",
    "grid_result = grid.fit(X_train, y_train)\n",
    "\n",
    "# print the results\n",
    "print(\"Best: %f using %s\" % (grid_result.best_score_, grid_result.best_params_))"
   ]
  },
  {
   "cell_type": "code",
   "execution_count": 48,
   "id": "5540f572-cf7e-40eb-8f70-584b86158e3b",
   "metadata": {},
   "outputs": [
    {
     "name": "stdout",
     "output_type": "stream",
     "text": [
      "0.671739 (0.021355) with: {'neurons': 10}\n",
      "0.673913 (0.015752) with: {'neurons': 15}\n",
      "0.690217 (0.025259) with: {'neurons': 20}\n",
      "0.700000 (0.028009) with: {'neurons': 25}\n",
      "0.689130 (0.023414) with: {'neurons': 30}\n"
     ]
    }
   ],
   "source": [
    "means = grid_result.cv_results_['mean_test_score']\n",
    "stds = grid_result.cv_results_['std_test_score']\n",
    "params = grid_result.cv_results_['params']\n",
    "for mean, std, param in zip(means, stds, params):\n",
    "    print(\"%f (%f) with: %r\" % (mean, std, param))"
   ]
  },
  {
   "cell_type": "code",
   "execution_count": 49,
   "id": "50b61310-bd8f-4543-9e89-04d9905b6be1",
   "metadata": {},
   "outputs": [
    {
     "name": "stdout",
     "output_type": "stream",
     "text": [
      "Epoch 1/100\n",
      "29/29 [==============================] - 1s 2ms/step - loss: 0.7068 - accuracy: 0.5022\n",
      "Epoch 2/100\n",
      "29/29 [==============================] - 0s 1ms/step - loss: 0.6850 - accuracy: 0.5565\n",
      "Epoch 3/100\n",
      "29/29 [==============================] - 0s 1ms/step - loss: 0.6777 - accuracy: 0.5815\n",
      "Epoch 4/100\n",
      "29/29 [==============================] - 0s 2ms/step - loss: 0.6721 - accuracy: 0.5924\n",
      "Epoch 5/100\n",
      "29/29 [==============================] - 0s 2ms/step - loss: 0.6678 - accuracy: 0.6011\n",
      "Epoch 6/100\n",
      "29/29 [==============================] - 0s 2ms/step - loss: 0.6641 - accuracy: 0.6130\n",
      "Epoch 7/100\n",
      "29/29 [==============================] - 0s 1ms/step - loss: 0.6604 - accuracy: 0.6011\n",
      "Epoch 8/100\n",
      "29/29 [==============================] - 0s 1ms/step - loss: 0.6571 - accuracy: 0.6098\n",
      "Epoch 9/100\n",
      "29/29 [==============================] - 0s 1ms/step - loss: 0.6556 - accuracy: 0.6033\n",
      "Epoch 10/100\n",
      "29/29 [==============================] - 0s 1ms/step - loss: 0.6518 - accuracy: 0.6076\n",
      "Epoch 11/100\n",
      "29/29 [==============================] - 0s 1ms/step - loss: 0.6493 - accuracy: 0.6022\n",
      "Epoch 12/100\n",
      "29/29 [==============================] - 0s 1ms/step - loss: 0.6470 - accuracy: 0.6130\n",
      "Epoch 13/100\n",
      "29/29 [==============================] - 0s 1ms/step - loss: 0.6455 - accuracy: 0.6054\n",
      "Epoch 14/100\n",
      "29/29 [==============================] - 0s 1ms/step - loss: 0.6425 - accuracy: 0.6109\n",
      "Epoch 15/100\n",
      "29/29 [==============================] - 0s 1ms/step - loss: 0.6406 - accuracy: 0.6141\n",
      "Epoch 16/100\n",
      "29/29 [==============================] - 0s 1ms/step - loss: 0.6386 - accuracy: 0.6207\n",
      "Epoch 17/100\n",
      "29/29 [==============================] - 0s 2ms/step - loss: 0.6366 - accuracy: 0.6141\n",
      "Epoch 18/100\n",
      "29/29 [==============================] - 0s 1ms/step - loss: 0.6348 - accuracy: 0.6185\n",
      "Epoch 19/100\n",
      "29/29 [==============================] - 0s 1ms/step - loss: 0.6336 - accuracy: 0.6261\n",
      "Epoch 20/100\n",
      "29/29 [==============================] - 0s 1ms/step - loss: 0.6312 - accuracy: 0.6239\n",
      "Epoch 21/100\n",
      "29/29 [==============================] - 0s 1ms/step - loss: 0.6297 - accuracy: 0.6315\n",
      "Epoch 22/100\n",
      "29/29 [==============================] - 0s 1ms/step - loss: 0.6265 - accuracy: 0.6261\n",
      "Epoch 23/100\n",
      "29/29 [==============================] - 0s 1ms/step - loss: 0.6252 - accuracy: 0.6304\n",
      "Epoch 24/100\n",
      "29/29 [==============================] - 0s 1ms/step - loss: 0.6231 - accuracy: 0.6446\n",
      "Epoch 25/100\n",
      "29/29 [==============================] - 0s 1ms/step - loss: 0.6215 - accuracy: 0.6359\n",
      "Epoch 26/100\n",
      "29/29 [==============================] - 0s 1ms/step - loss: 0.6200 - accuracy: 0.6413\n",
      "Epoch 27/100\n",
      "29/29 [==============================] - 0s 1ms/step - loss: 0.6178 - accuracy: 0.6435\n",
      "Epoch 28/100\n",
      "29/29 [==============================] - 0s 1ms/step - loss: 0.6171 - accuracy: 0.6446\n",
      "Epoch 29/100\n",
      "29/29 [==============================] - 0s 1ms/step - loss: 0.6145 - accuracy: 0.6435\n",
      "Epoch 30/100\n",
      "29/29 [==============================] - 0s 1ms/step - loss: 0.6133 - accuracy: 0.6478\n",
      "Epoch 31/100\n",
      "29/29 [==============================] - 0s 1ms/step - loss: 0.6119 - accuracy: 0.6543\n",
      "Epoch 32/100\n",
      "29/29 [==============================] - 0s 1ms/step - loss: 0.6101 - accuracy: 0.6500\n",
      "Epoch 33/100\n",
      "29/29 [==============================] - 0s 2ms/step - loss: 0.6093 - accuracy: 0.6620\n",
      "Epoch 34/100\n",
      "29/29 [==============================] - 0s 2ms/step - loss: 0.6074 - accuracy: 0.6511\n",
      "Epoch 35/100\n",
      "29/29 [==============================] - 0s 1ms/step - loss: 0.6053 - accuracy: 0.6609\n",
      "Epoch 36/100\n",
      "29/29 [==============================] - 0s 1ms/step - loss: 0.6039 - accuracy: 0.6630\n",
      "Epoch 37/100\n",
      "29/29 [==============================] - 0s 2ms/step - loss: 0.6033 - accuracy: 0.6630\n",
      "Epoch 38/100\n",
      "29/29 [==============================] - 0s 1ms/step - loss: 0.6013 - accuracy: 0.6620\n",
      "Epoch 39/100\n",
      "29/29 [==============================] - 0s 1ms/step - loss: 0.5996 - accuracy: 0.6739\n",
      "Epoch 40/100\n",
      "29/29 [==============================] - 0s 2ms/step - loss: 0.5990 - accuracy: 0.6609\n",
      "Epoch 41/100\n",
      "29/29 [==============================] - 0s 1ms/step - loss: 0.5975 - accuracy: 0.6761\n",
      "Epoch 42/100\n",
      "29/29 [==============================] - 0s 1ms/step - loss: 0.5960 - accuracy: 0.6761\n",
      "Epoch 43/100\n",
      "29/29 [==============================] - 0s 2ms/step - loss: 0.5947 - accuracy: 0.6652\n",
      "Epoch 44/100\n",
      "29/29 [==============================] - 0s 2ms/step - loss: 0.5943 - accuracy: 0.6837\n",
      "Epoch 45/100\n",
      "29/29 [==============================] - 0s 1ms/step - loss: 0.5923 - accuracy: 0.6783\n",
      "Epoch 46/100\n",
      "29/29 [==============================] - 0s 2ms/step - loss: 0.5913 - accuracy: 0.6728\n",
      "Epoch 47/100\n",
      "29/29 [==============================] - 0s 2ms/step - loss: 0.5899 - accuracy: 0.6783\n",
      "Epoch 48/100\n",
      "29/29 [==============================] - 0s 1ms/step - loss: 0.5898 - accuracy: 0.6772\n",
      "Epoch 49/100\n",
      "29/29 [==============================] - 0s 2ms/step - loss: 0.5892 - accuracy: 0.6880\n",
      "Epoch 50/100\n",
      "29/29 [==============================] - 0s 1ms/step - loss: 0.5869 - accuracy: 0.6750\n",
      "Epoch 51/100\n",
      "29/29 [==============================] - 0s 1ms/step - loss: 0.5860 - accuracy: 0.6891\n",
      "Epoch 52/100\n",
      "29/29 [==============================] - 0s 2ms/step - loss: 0.5849 - accuracy: 0.6717\n",
      "Epoch 53/100\n",
      "29/29 [==============================] - 0s 1ms/step - loss: 0.5841 - accuracy: 0.6826\n",
      "Epoch 54/100\n",
      "29/29 [==============================] - 0s 2ms/step - loss: 0.5831 - accuracy: 0.6826\n",
      "Epoch 55/100\n",
      "29/29 [==============================] - 0s 1ms/step - loss: 0.5827 - accuracy: 0.6815\n",
      "Epoch 56/100\n",
      "29/29 [==============================] - 0s 1ms/step - loss: 0.5815 - accuracy: 0.6815\n",
      "Epoch 57/100\n",
      "29/29 [==============================] - 0s 1ms/step - loss: 0.5803 - accuracy: 0.6935\n",
      "Epoch 58/100\n",
      "29/29 [==============================] - 0s 2ms/step - loss: 0.5801 - accuracy: 0.6815\n",
      "Epoch 59/100\n",
      "29/29 [==============================] - 0s 2ms/step - loss: 0.5785 - accuracy: 0.6837\n",
      "Epoch 60/100\n",
      "29/29 [==============================] - 0s 2ms/step - loss: 0.5780 - accuracy: 0.6891\n",
      "Epoch 61/100\n",
      "29/29 [==============================] - 0s 1ms/step - loss: 0.5784 - accuracy: 0.6870\n",
      "Epoch 62/100\n",
      "29/29 [==============================] - 0s 1ms/step - loss: 0.5768 - accuracy: 0.6826\n",
      "Epoch 63/100\n",
      "29/29 [==============================] - 0s 1ms/step - loss: 0.5757 - accuracy: 0.6946\n",
      "Epoch 64/100\n",
      "29/29 [==============================] - 0s 2ms/step - loss: 0.5742 - accuracy: 0.6935\n",
      "Epoch 65/100\n",
      "29/29 [==============================] - 0s 1ms/step - loss: 0.5735 - accuracy: 0.7011\n",
      "Epoch 66/100\n",
      "29/29 [==============================] - 0s 1ms/step - loss: 0.5732 - accuracy: 0.6902\n",
      "Epoch 67/100\n",
      "29/29 [==============================] - 0s 1ms/step - loss: 0.5720 - accuracy: 0.6946\n",
      "Epoch 68/100\n",
      "29/29 [==============================] - 0s 1ms/step - loss: 0.5716 - accuracy: 0.6935\n",
      "Epoch 69/100\n",
      "29/29 [==============================] - 0s 1ms/step - loss: 0.5711 - accuracy: 0.7011\n",
      "Epoch 70/100\n",
      "29/29 [==============================] - 0s 2ms/step - loss: 0.5700 - accuracy: 0.6967\n",
      "Epoch 71/100\n",
      "29/29 [==============================] - 0s 2ms/step - loss: 0.5701 - accuracy: 0.6967\n",
      "Epoch 72/100\n",
      "29/29 [==============================] - 0s 1ms/step - loss: 0.5701 - accuracy: 0.6880\n",
      "Epoch 73/100\n",
      "29/29 [==============================] - 0s 1ms/step - loss: 0.5684 - accuracy: 0.6978\n",
      "Epoch 74/100\n",
      "29/29 [==============================] - 0s 1ms/step - loss: 0.5674 - accuracy: 0.6935\n",
      "Epoch 75/100\n",
      "29/29 [==============================] - 0s 2ms/step - loss: 0.5672 - accuracy: 0.6913\n",
      "Epoch 76/100\n",
      "29/29 [==============================] - 0s 2ms/step - loss: 0.5664 - accuracy: 0.6891\n",
      "Epoch 77/100\n",
      "29/29 [==============================] - 0s 2ms/step - loss: 0.5677 - accuracy: 0.6946\n",
      "Epoch 78/100\n",
      "29/29 [==============================] - 0s 1ms/step - loss: 0.5661 - accuracy: 0.6946\n",
      "Epoch 79/100\n",
      "29/29 [==============================] - 0s 1ms/step - loss: 0.5648 - accuracy: 0.6989\n",
      "Epoch 80/100\n",
      "29/29 [==============================] - 0s 1ms/step - loss: 0.5638 - accuracy: 0.6989\n",
      "Epoch 81/100\n",
      "29/29 [==============================] - 0s 1ms/step - loss: 0.5627 - accuracy: 0.7011\n",
      "Epoch 82/100\n",
      "29/29 [==============================] - 0s 1ms/step - loss: 0.5621 - accuracy: 0.7033\n",
      "Epoch 83/100\n",
      "29/29 [==============================] - 0s 1ms/step - loss: 0.5621 - accuracy: 0.7054\n",
      "Epoch 84/100\n",
      "29/29 [==============================] - 0s 1ms/step - loss: 0.5615 - accuracy: 0.7033\n",
      "Epoch 85/100\n",
      "29/29 [==============================] - 0s 1ms/step - loss: 0.5616 - accuracy: 0.7043\n",
      "Epoch 86/100\n",
      "29/29 [==============================] - 0s 1ms/step - loss: 0.5613 - accuracy: 0.7011\n",
      "Epoch 87/100\n",
      "29/29 [==============================] - 0s 1ms/step - loss: 0.5609 - accuracy: 0.7054\n",
      "Epoch 88/100\n",
      "29/29 [==============================] - 0s 2ms/step - loss: 0.5600 - accuracy: 0.7043\n",
      "Epoch 89/100\n",
      "29/29 [==============================] - 0s 2ms/step - loss: 0.5583 - accuracy: 0.7033\n",
      "Epoch 90/100\n",
      "29/29 [==============================] - 0s 1ms/step - loss: 0.5578 - accuracy: 0.7065\n",
      "Epoch 91/100\n",
      "29/29 [==============================] - 0s 1ms/step - loss: 0.5580 - accuracy: 0.7043\n",
      "Epoch 92/100\n",
      "29/29 [==============================] - 0s 1ms/step - loss: 0.5578 - accuracy: 0.7022\n",
      "Epoch 93/100\n",
      "29/29 [==============================] - 0s 1ms/step - loss: 0.5566 - accuracy: 0.7141\n",
      "Epoch 94/100\n",
      "29/29 [==============================] - 0s 2ms/step - loss: 0.5565 - accuracy: 0.7054\n",
      "Epoch 95/100\n",
      "29/29 [==============================] - 0s 1ms/step - loss: 0.5556 - accuracy: 0.7076\n",
      "Epoch 96/100\n",
      "29/29 [==============================] - 0s 1ms/step - loss: 0.5549 - accuracy: 0.7065\n",
      "Epoch 97/100\n",
      "29/29 [==============================] - 0s 2ms/step - loss: 0.5556 - accuracy: 0.7098\n",
      "Epoch 98/100\n",
      "29/29 [==============================] - 0s 1ms/step - loss: 0.5548 - accuracy: 0.7130\n",
      "Epoch 99/100\n",
      "29/29 [==============================] - 0s 983us/step - loss: 0.5536 - accuracy: 0.7098\n",
      "Epoch 100/100\n",
      "29/29 [==============================] - 0s 2ms/step - loss: 0.5571 - accuracy: 0.6946\n"
     ]
    }
   ],
   "source": [
    "# Create the neural network model with the optimal learning rate\n",
    "model = Sequential()\n",
    "model.add(Dense(25, input_dim=17, activation='relu'))\n",
    "model.add(Dense(1, activation='sigmoid'))\n",
    "optimizer = Adam(lr=0.001)\n",
    "\n",
    "\n",
    "# Compile the model\n",
    "model.compile(loss='binary_crossentropy', optimizer=optimizer, metrics=['accuracy'])\n",
    "\n",
    "# Train the model on the training data\n",
    "history = model.fit(X_train, y_train, epochs=100, batch_size=32)"
   ]
  },
  {
   "cell_type": "code",
   "execution_count": 50,
   "id": "e717e5dd-4b67-4aad-ba5c-718dcd88adfe",
   "metadata": {},
   "outputs": [
    {
     "data": {
      "image/png": "[encoded data removed]",
      "text/plain": [
       "<Figure size 640x480 with 1 Axes>"
      ]
     },
     "metadata": {},
     "output_type": "display_data"
    }
   ],
   "source": [
    "# Plot the training loss over epochs\n",
    "plt.plot(history.history['loss'])\n",
    "plt.title('Training Loss')\n",
    "plt.xlabel('Epoch')\n",
    "plt.ylabel('Loss')\n",
    "plt.show()"
   ]
  },
  {
   "cell_type": "code",
   "execution_count": 51,
   "id": "cc753ef2-104f-4216-9e16-caa331c5469e",
   "metadata": {},
   "outputs": [
    {
     "name": "stdout",
     "output_type": "stream",
     "text": [
      "8/8 [==============================] - 0s 0s/step\n",
      "Confusion Matrix:\n",
      " [[78 25]\n",
      " [50 78]]\n",
      "Accuracy: 0.6753246753246753\n",
      "ROC AUC Score: 0.6833282766990292\n"
     ]
    }
   ],
   "source": [
    "# Evaluate the model on the testing set\n",
    "y_pred = (model.predict(X_test) > 0.5).astype(\"int32\")\n",
    "cm = confusion_matrix(y_test, y_pred)\n",
    "accuracy = accuracy_score(y_test, y_pred)\n",
    "roc_auc = roc_auc_score(y_test, y_pred)\n",
    "\n",
    "print('Confusion Matrix:\\n', cm)\n",
    "print('Accuracy:', accuracy)\n",
    "print('ROC AUC Score:', roc_auc)"
   ]
  },
  {
   "cell_type": "code",
   "execution_count": 52,
   "id": "a6d74fc4-b5e5-4a2d-90cd-fc38c0eff289",
   "metadata": {},
   "outputs": [
    {
     "data": {
      "image/png": "[encoded data removed]",
      "text/plain": [
       "<Figure size 640x480 with 2 Axes>"
      ]
     },
     "metadata": {},
     "output_type": "display_data"
    }
   ],
   "source": [
    "# plot the confusion matrix as a heatmap using seaborn library\n",
    "sns.heatmap(cm, annot=True, cmap='Blues', fmt='g')\n",
    "plt.xlabel('Predicted')\n",
    "plt.ylabel('True')\n",
    "plt.show()"
   ]
  },
  {
   "cell_type": "markdown",
   "id": "19899edd-9df3-4e7e-930f-a9df41008c80",
   "metadata": {},
   "source": [
    "#### 2.4 Trying SVM"
   ]
  },
  {
   "cell_type": "code",
   "execution_count": 53,
   "id": "a7bdff60-c7c9-4766-b925-bce9d3a3efd5",
   "metadata": {},
   "outputs": [
    {
     "name": "stdout",
     "output_type": "stream",
     "text": [
      "Confusion Matrix:\n",
      " [[87 16]\n",
      " [58 70]]\n",
      "Accuracy: 0.6796536796536796\n",
      "ROC AUC Score: 0.6957675970873787\n"
     ]
    }
   ],
   "source": [
    "# Define the SVM model and set the hyperparameters\n",
    "model = svm.SVC(kernel='rbf', C=1, gamma='scale')\n",
    "\n",
    "# Train the SVM model\n",
    "model.fit(X_train, y_train)\n",
    "\n",
    "# Predict the classes of the testing set using the trained SVM model\n",
    "y_pred = model.predict(X_test)\n",
    "\n",
    "# Evaluate the performance of the SVM model using various metrics\n",
    "accuracy = accuracy_score(y_test, y_pred)\n",
    "conf_matrix = confusion_matrix(y_test, y_pred)\n",
    "roc_auc = roc_auc_score(y_test, y_pred)\n",
    "\n",
    "print(\"Confusion Matrix:\\n\", conf_matrix)\n",
    "print(\"Accuracy:\", accuracy)\n",
    "print(\"ROC AUC Score:\", roc_auc)"
   ]
  },
  {
   "cell_type": "code",
   "execution_count": 54,
   "id": "5e8ae5b6-2ba7-4ea1-9d40-3536c7874cb0",
   "metadata": {},
   "outputs": [
    {
     "data": {
      "image/png": "[encoded data removed]",
      "text/plain": [
       "<Figure size 640x480 with 2 Axes>"
      ]
     },
     "metadata": {},
     "output_type": "display_data"
    }
   ],
   "source": [
    "# plot the confusion matrix as a heatmap using seaborn library\n",
    "sns.heatmap(conf_matrix, annot=True, cmap='Blues', fmt='g')\n",
    "plt.xlabel('Predicted')\n",
    "plt.ylabel('True')\n",
    "plt.show()"
   ]
  },
  {
   "cell_type": "markdown",
   "id": "4f10859c-b444-4f88-8aa6-499a899ac051",
   "metadata": {},
   "source": [
    "#### 2.5 Trying Decision Tree"
   ]
  },
  {
   "cell_type": "code",
   "execution_count": 55,
   "id": "1c17d836-4459-4810-af10-c356ef2a04db",
   "metadata": {},
   "outputs": [
    {
     "name": "stdout",
     "output_type": "stream",
     "text": [
      "Confusion Matrix:\n",
      " [[57 46]\n",
      " [46 82]]\n",
      "Accuracy: 0.6017316017316018\n",
      "ROC AUC Score: 0.5970115291262136\n"
     ]
    }
   ],
   "source": [
    "# Train a decision tree classifier\n",
    "classifier = DecisionTreeClassifier(random_state=42)\n",
    "classifier.fit(X_train, y_train)\n",
    "\n",
    "# Test the classifier\n",
    "y_pred = classifier.predict(X_test)\n",
    "cm = confusion_matrix(y_test, y_pred)\n",
    "accuracy = accuracy_score(y_test, y_pred)\n",
    "roc_auc = roc_auc_score(y_test, y_pred)\n",
    "\n",
    "# Print the results\n",
    "print(\"Confusion Matrix:\\n\", cm)\n",
    "print(\"Accuracy:\", accuracy)\n",
    "print(\"ROC AUC Score:\", roc_auc)"
   ]
  },
  {
   "cell_type": "code",
   "execution_count": 56,
   "id": "c1ab2441-9783-4b0e-bf54-e9c4a6c45053",
   "metadata": {},
   "outputs": [
    {
     "data": {
      "image/png": "[encoded data removed]",
      "text/plain": [
       "<Figure size 640x480 with 2 Axes>"
      ]
     },
     "metadata": {},
     "output_type": "display_data"
    }
   ],
   "source": [
    "# plot the confusion matrix as a heatmap using seaborn library\n",
    "sns.heatmap(cm, annot=True, cmap='Blues', fmt='g')\n",
    "plt.xlabel('Predicted')\n",
    "plt.ylabel('True')\n",
    "plt.show()"
   ]
  }
 ],
 "metadata": {
  "kernelspec": {
   "display_name": "Python 3 (ipykernel)",
   "language": "python",
   "name": "python3"
  },
  "language_info": {
   "codemirror_mode": {
    "name": "ipython",
    "version": 3
   },
   "file_extension": ".py",
   "mimetype": "text/x-python",
   "name": "python",
   "nbconvert_exporter": "python",
   "pygments_lexer": "ipython3",
   "version": "3.9.13"
  }
 },
 "nbformat": 4,
 "nbformat_minor": 5
}
